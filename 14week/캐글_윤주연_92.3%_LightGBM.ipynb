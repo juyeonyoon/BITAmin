{
 "cells": [
  {
   "cell_type": "code",
   "execution_count": 1,
   "id": "337af804",
   "metadata": {},
   "outputs": [],
   "source": [
    "import pandas as pd\n",
    "import numpy as np\n",
    "import matplotlib.pyplot as plt\n",
    "import seaborn as sns"
   ]
  },
  {
   "cell_type": "code",
   "execution_count": 2,
   "id": "b6671fb2",
   "metadata": {},
   "outputs": [],
   "source": [
    "data = pd.read_csv('Electronics_train.csv')"
   ]
  },
  {
   "cell_type": "code",
   "execution_count": 3,
   "id": "56170c94",
   "metadata": {},
   "outputs": [
    {
     "data": {
      "text/html": [
       "<div>\n",
       "<style scoped>\n",
       "    .dataframe tbody tr th:only-of-type {\n",
       "        vertical-align: middle;\n",
       "    }\n",
       "\n",
       "    .dataframe tbody tr th {\n",
       "        vertical-align: top;\n",
       "    }\n",
       "\n",
       "    .dataframe thead th {\n",
       "        text-align: right;\n",
       "    }\n",
       "</style>\n",
       "<table border=\"1\" class=\"dataframe\">\n",
       "  <thead>\n",
       "    <tr style=\"text-align: right;\">\n",
       "      <th></th>\n",
       "      <th>Unnamed: 0</th>\n",
       "      <th>BP</th>\n",
       "      <th>blue</th>\n",
       "      <th>c_speed</th>\n",
       "      <th>dual</th>\n",
       "      <th>front_c</th>\n",
       "      <th>4G</th>\n",
       "      <th>m_int</th>\n",
       "      <th>m_dep</th>\n",
       "      <th>m_wt</th>\n",
       "      <th>...</th>\n",
       "      <th>px_h</th>\n",
       "      <th>px_w</th>\n",
       "      <th>ram</th>\n",
       "      <th>sc_h</th>\n",
       "      <th>sc_w</th>\n",
       "      <th>talk_t</th>\n",
       "      <th>3G</th>\n",
       "      <th>ts</th>\n",
       "      <th>wifi</th>\n",
       "      <th>target</th>\n",
       "    </tr>\n",
       "  </thead>\n",
       "  <tbody>\n",
       "    <tr>\n",
       "      <th>0</th>\n",
       "      <td>0</td>\n",
       "      <td>842</td>\n",
       "      <td>0</td>\n",
       "      <td>2.2</td>\n",
       "      <td>0</td>\n",
       "      <td>1</td>\n",
       "      <td>0</td>\n",
       "      <td>7</td>\n",
       "      <td>0.6</td>\n",
       "      <td>188</td>\n",
       "      <td>...</td>\n",
       "      <td>20</td>\n",
       "      <td>756</td>\n",
       "      <td>2549</td>\n",
       "      <td>9</td>\n",
       "      <td>7</td>\n",
       "      <td>19</td>\n",
       "      <td>0</td>\n",
       "      <td>0</td>\n",
       "      <td>1</td>\n",
       "      <td>1</td>\n",
       "    </tr>\n",
       "    <tr>\n",
       "      <th>1</th>\n",
       "      <td>1</td>\n",
       "      <td>1021</td>\n",
       "      <td>1</td>\n",
       "      <td>0.5</td>\n",
       "      <td>1</td>\n",
       "      <td>0</td>\n",
       "      <td>1</td>\n",
       "      <td>53</td>\n",
       "      <td>0.7</td>\n",
       "      <td>136</td>\n",
       "      <td>...</td>\n",
       "      <td>905</td>\n",
       "      <td>1988</td>\n",
       "      <td>2631</td>\n",
       "      <td>17</td>\n",
       "      <td>3</td>\n",
       "      <td>7</td>\n",
       "      <td>1</td>\n",
       "      <td>1</td>\n",
       "      <td>0</td>\n",
       "      <td>2</td>\n",
       "    </tr>\n",
       "    <tr>\n",
       "      <th>2</th>\n",
       "      <td>2</td>\n",
       "      <td>563</td>\n",
       "      <td>1</td>\n",
       "      <td>0.5</td>\n",
       "      <td>1</td>\n",
       "      <td>2</td>\n",
       "      <td>1</td>\n",
       "      <td>41</td>\n",
       "      <td>0.9</td>\n",
       "      <td>145</td>\n",
       "      <td>...</td>\n",
       "      <td>1263</td>\n",
       "      <td>1716</td>\n",
       "      <td>2603</td>\n",
       "      <td>11</td>\n",
       "      <td>2</td>\n",
       "      <td>9</td>\n",
       "      <td>1</td>\n",
       "      <td>1</td>\n",
       "      <td>0</td>\n",
       "      <td>2</td>\n",
       "    </tr>\n",
       "    <tr>\n",
       "      <th>3</th>\n",
       "      <td>3</td>\n",
       "      <td>615</td>\n",
       "      <td>1</td>\n",
       "      <td>2.5</td>\n",
       "      <td>0</td>\n",
       "      <td>0</td>\n",
       "      <td>0</td>\n",
       "      <td>10</td>\n",
       "      <td>0.8</td>\n",
       "      <td>131</td>\n",
       "      <td>...</td>\n",
       "      <td>1216</td>\n",
       "      <td>1786</td>\n",
       "      <td>2769</td>\n",
       "      <td>16</td>\n",
       "      <td>8</td>\n",
       "      <td>11</td>\n",
       "      <td>1</td>\n",
       "      <td>0</td>\n",
       "      <td>0</td>\n",
       "      <td>2</td>\n",
       "    </tr>\n",
       "    <tr>\n",
       "      <th>4</th>\n",
       "      <td>4</td>\n",
       "      <td>1821</td>\n",
       "      <td>1</td>\n",
       "      <td>1.2</td>\n",
       "      <td>0</td>\n",
       "      <td>13</td>\n",
       "      <td>1</td>\n",
       "      <td>44</td>\n",
       "      <td>0.6</td>\n",
       "      <td>141</td>\n",
       "      <td>...</td>\n",
       "      <td>1208</td>\n",
       "      <td>1212</td>\n",
       "      <td>1411</td>\n",
       "      <td>8</td>\n",
       "      <td>2</td>\n",
       "      <td>15</td>\n",
       "      <td>1</td>\n",
       "      <td>1</td>\n",
       "      <td>0</td>\n",
       "      <td>1</td>\n",
       "    </tr>\n",
       "  </tbody>\n",
       "</table>\n",
       "<p>5 rows × 22 columns</p>\n",
       "</div>"
      ],
      "text/plain": [
       "   Unnamed: 0    BP  blue  c_speed  dual  front_c  4G  m_int  m_dep  m_wt  \\\n",
       "0           0   842     0      2.2     0        1   0      7    0.6   188   \n",
       "1           1  1021     1      0.5     1        0   1     53    0.7   136   \n",
       "2           2   563     1      0.5     1        2   1     41    0.9   145   \n",
       "3           3   615     1      2.5     0        0   0     10    0.8   131   \n",
       "4           4  1821     1      1.2     0       13   1     44    0.6   141   \n",
       "\n",
       "   ...  px_h  px_w   ram  sc_h  sc_w  talk_t  3G  ts  wifi  target  \n",
       "0  ...    20   756  2549     9     7      19   0   0     1       1  \n",
       "1  ...   905  1988  2631    17     3       7   1   1     0       2  \n",
       "2  ...  1263  1716  2603    11     2       9   1   1     0       2  \n",
       "3  ...  1216  1786  2769    16     8      11   1   0     0       2  \n",
       "4  ...  1208  1212  1411     8     2      15   1   1     0       1  \n",
       "\n",
       "[5 rows x 22 columns]"
      ]
     },
     "execution_count": 3,
     "metadata": {},
     "output_type": "execute_result"
    }
   ],
   "source": [
    "data.head()"
   ]
  },
  {
   "cell_type": "code",
   "execution_count": 4,
   "id": "294b02b4",
   "metadata": {},
   "outputs": [],
   "source": [
    "data = data.iloc[:,1:]"
   ]
  },
  {
   "cell_type": "code",
   "execution_count": 5,
   "id": "cc276e8c",
   "metadata": {},
   "outputs": [
    {
     "data": {
      "text/plain": [
       "3    379\n",
       "0    375\n",
       "2    374\n",
       "1    372\n",
       "Name: target, dtype: int64"
      ]
     },
     "execution_count": 5,
     "metadata": {},
     "output_type": "execute_result"
    }
   ],
   "source": [
    "data['target'].value_counts()"
   ]
  },
  {
   "cell_type": "code",
   "execution_count": 6,
   "id": "466cdcea",
   "metadata": {},
   "outputs": [
    {
     "name": "stdout",
     "output_type": "stream",
     "text": [
      "<class 'pandas.core.frame.DataFrame'>\n",
      "RangeIndex: 1500 entries, 0 to 1499\n",
      "Data columns (total 21 columns):\n",
      " #   Column   Non-Null Count  Dtype  \n",
      "---  ------   --------------  -----  \n",
      " 0   BP       1500 non-null   int64  \n",
      " 1   blue     1500 non-null   int64  \n",
      " 2   c_speed  1500 non-null   float64\n",
      " 3   dual     1500 non-null   int64  \n",
      " 4   front_c  1500 non-null   int64  \n",
      " 5   4G       1500 non-null   int64  \n",
      " 6   m_int    1500 non-null   int64  \n",
      " 7   m_dep    1500 non-null   float64\n",
      " 8   m_wt     1500 non-null   int64  \n",
      " 9   n_cores  1500 non-null   int64  \n",
      " 10  prim_c   1500 non-null   int64  \n",
      " 11  px_h     1500 non-null   int64  \n",
      " 12  px_w     1500 non-null   int64  \n",
      " 13  ram      1500 non-null   int64  \n",
      " 14  sc_h     1500 non-null   int64  \n",
      " 15  sc_w     1500 non-null   int64  \n",
      " 16  talk_t   1500 non-null   int64  \n",
      " 17  3G       1500 non-null   int64  \n",
      " 18  ts       1500 non-null   int64  \n",
      " 19  wifi     1500 non-null   int64  \n",
      " 20  target   1500 non-null   int64  \n",
      "dtypes: float64(2), int64(19)\n",
      "memory usage: 246.2 KB\n"
     ]
    }
   ],
   "source": [
    "data.info() #결측값 없음"
   ]
  },
  {
   "cell_type": "code",
   "execution_count": 7,
   "id": "22de5a62",
   "metadata": {},
   "outputs": [],
   "source": [
    "X_data = data.iloc[:,:-1]\n",
    "y_data = data.iloc[:,-1]\n",
    "\n",
    "from sklearn.model_selection import train_test_split\n",
    "\n",
    "X_train, X_test, y_train, y_test = train_test_split(X_data, y_data, test_size=0.2, random_state=30)"
   ]
  },
  {
   "cell_type": "code",
   "execution_count": 8,
   "id": "22861a2a",
   "metadata": {},
   "outputs": [
    {
     "data": {
      "image/png": "[encoded data removed]",
      "text/plain": [
       "<Figure size 432x288 with 1 Axes>"
      ]
     },
     "metadata": {
      "needs_background": "light"
     },
     "output_type": "display_data"
    }
   ],
   "source": [
    "from sklearn.ensemble import RandomForestClassifier\n",
    "\n",
    "rf = RandomForestClassifier()\n",
    "rf.fit(X_train, y_train)\n",
    "sorted_i = rf.feature_importances_.argsort()\n",
    "sns.barplot(x=rf.feature_importances_[sorted_i], y=data.columns[sorted_i])\n",
    "plt.show()"
   ]
  },
  {
   "cell_type": "code",
   "execution_count": 9,
   "id": "482e77ae",
   "metadata": {},
   "outputs": [],
   "source": [
    "#1. 하위 6개 제거\n",
    "\n",
    "data.drop(['3G', 'blue', 'dual', 'wifi', '4G', 'ts'], inplace=True, axis=1)"
   ]
  },
  {
   "cell_type": "code",
   "execution_count": 10,
   "id": "66afe75f",
   "metadata": {},
   "outputs": [],
   "source": [
    "#Standardsacler\n",
    "\n",
    "from sklearn.preprocessing import StandardScaler\n",
    "\n",
    "standard = StandardScaler()\n",
    "X_scaled_standard = standard.fit_transform(X_data)"
   ]
  },
  {
   "cell_type": "code",
   "execution_count": 11,
   "id": "01224252",
   "metadata": {},
   "outputs": [],
   "source": [
    "X_train, X_test, y_train, y_test = train_test_split(X_scaled_standard, y_data, test_size=0.2, random_state=30)"
   ]
  },
  {
   "cell_type": "code",
   "execution_count": 12,
   "id": "b525f58d",
   "metadata": {},
   "outputs": [
    {
     "name": "stdout",
     "output_type": "stream",
     "text": [
      "DecisionTreeClassifier():  0.8233\n",
      "GaussianNB():  0.8167\n",
      "RandomForestClassifier():  0.8533\n",
      "AdaBoostClassifier():  0.7233\n",
      "GradientBoostingClassifier():  0.8967\n",
      "[15:53:19] WARNING: C:/Users/Administrator/workspace/xgboost-win64_release_1.5.1/src/learner.cc:1115: Starting in XGBoost 1.3.0, the default evaluation metric used with the objective 'multi:softprob' was changed from 'merror' to 'mlogloss'. Explicitly set eval_metric if you'd like to restore the old behavior.\n",
      "XGBClassifier(base_score=0.5, booster='gbtree', colsample_bylevel=1,\n",
      "              colsample_bynode=1, colsample_bytree=1, enable_categorical=False,\n",
      "              gamma=0, gpu_id=-1, importance_type=None,\n",
      "              interaction_constraints='', learning_rate=0.300000012,\n",
      "              max_delta_step=0, max_depth=6, min_child_weight=1, missing=nan,\n",
      "              monotone_constraints='()', n_estimators=100, n_jobs=8,\n",
      "              num_parallel_tree=1, objective='multi:softprob', predictor='auto',\n",
      "              random_state=0, reg_alpha=0, reg_lambda=1, scale_pos_weight=None,\n",
      "              subsample=1, tree_method='exact', validate_parameters=1,\n",
      "              verbosity=None):  0.9133\n",
      "LGBMClassifier():  0.9000\n"
     ]
    }
   ],
   "source": [
    "from sklearn.tree import DecisionTreeClassifier\n",
    "from sklearn.naive_bayes import GaussianNB\n",
    "from sklearn.ensemble import RandomForestClassifier\n",
    "from sklearn.ensemble import AdaBoostClassifier\n",
    "from sklearn.ensemble import GradientBoostingClassifier\n",
    "from xgboost import XGBClassifier\n",
    "from lightgbm import LGBMClassifier\n",
    "from sklearn.metrics import accuracy_score\n",
    "import warnings\n",
    "\n",
    "warnings.filterwarnings('ignore')\n",
    "\n",
    "tree = DecisionTreeClassifier()\n",
    "GNB = GaussianNB()\n",
    "rf = RandomForestClassifier()\n",
    "ada = AdaBoostClassifier()\n",
    "gb = GradientBoostingClassifier()\n",
    "xgb = XGBClassifier()\n",
    "lgbm = LGBMClassifier()\n",
    "\n",
    "for model in [tree, GNB, rf, ada, gb, xgb, lgbm]:\n",
    "    model.fit(X_train, y_train)\n",
    "    pred_model = model.predict(X_test)\n",
    "    accuracy = accuracy_score(y_test, pred_model)\n",
    "    \n",
    "    print('{0}: {1: .4f}'.format(model, accuracy))"
   ]
  },
  {
   "cell_type": "code",
   "execution_count": 13,
   "id": "16852385",
   "metadata": {},
   "outputs": [],
   "source": [
    "#이상치 제거\n",
    "\n",
    "#-1. IQR로 아웃라이어 제거 (성윤 캐글 참고)\n",
    "\n",
    "def hello_outlier(df=None, column=None, weight=1.5) :\n",
    "    quantile_25 = np.percentile(df[column].values, 25)\n",
    "    quantile_75 = np.percentile(df[column].values, 75)\n",
    "\n",
    "    IQR = quantile_75 - quantile_25\n",
    "    IQR_weight = IQR*weight\n",
    "\n",
    "    lowest = quantile_25 - IQR_weight\n",
    "    highest = quantile_75 + IQR_weight\n",
    "\n",
    "    outlier_idx = df[column][ (df[column] < lowest) | (df[column] > highest) ].index\n",
    "    return outlier_idx\n",
    "\n",
    "def bye_outlier(df=None, column=None, weight=1.5) :\n",
    "    outlier_idx = hello_outlier(df=df, column=column, weight=1.5)\n",
    "    df.drop(outlier_idx, axis=0, inplace=True)"
   ]
  },
  {
   "cell_type": "code",
   "execution_count": 14,
   "id": "e410be6b",
   "metadata": {},
   "outputs": [
    {
     "name": "stdout",
     "output_type": "stream",
     "text": [
      "칼럼이름 :  BP\n",
      "Int64Index([], dtype='int64')\n",
      "칼럼이름 :  c_speed\n",
      "Int64Index([], dtype='int64')\n",
      "칼럼이름 :  front_c\n",
      "Int64Index([95, 169, 226, 229, 300, 305, 372, 584, 1387, 1406, 1416], dtype='int64')\n",
      "칼럼이름 :  m_int\n",
      "Int64Index([], dtype='int64')\n",
      "칼럼이름 :  m_dep\n",
      "Int64Index([], dtype='int64')\n",
      "칼럼이름 :  m_wt\n",
      "Int64Index([], dtype='int64')\n",
      "칼럼이름 :  n_cores\n",
      "Int64Index([], dtype='int64')\n",
      "칼럼이름 :  prim_c\n",
      "Int64Index([], dtype='int64')\n",
      "칼럼이름 :  px_h\n",
      "Int64Index([], dtype='int64')\n",
      "칼럼이름 :  px_w\n",
      "Int64Index([], dtype='int64')\n",
      "칼럼이름 :  ram\n",
      "Int64Index([], dtype='int64')\n",
      "칼럼이름 :  sc_h\n",
      "Int64Index([], dtype='int64')\n",
      "칼럼이름 :  sc_w\n",
      "Int64Index([], dtype='int64')\n",
      "칼럼이름 :  talk_t\n",
      "Int64Index([], dtype='int64')\n",
      "칼럼이름 :  target\n",
      "Int64Index([], dtype='int64')\n"
     ]
    }
   ],
   "source": [
    "for i in data.columns :\n",
    "    print('칼럼이름 : ',i)\n",
    "    print(hello_outlier(df=data, column=i, weight=1.5))"
   ]
  },
  {
   "cell_type": "code",
   "execution_count": 15,
   "id": "852ac219",
   "metadata": {},
   "outputs": [],
   "source": [
    "bye_outlier(df=data, column='front_c',weight=1.5)"
   ]
  },
  {
   "cell_type": "code",
   "execution_count": 16,
   "id": "e97efd8c",
   "metadata": {},
   "outputs": [],
   "source": [
    "X_data = data.iloc[:,:-1]\n",
    "y_data = data.iloc[:,-1]"
   ]
  },
  {
   "cell_type": "code",
   "execution_count": 17,
   "id": "fee62b4c",
   "metadata": {},
   "outputs": [],
   "source": [
    "# Standardscaler\n",
    "\n",
    "from sklearn.preprocessing import StandardScaler\n",
    "\n",
    "standard = StandardScaler()\n",
    "X_scaled_standard = standard.fit_transform(X_data)"
   ]
  },
  {
   "cell_type": "code",
   "execution_count": 18,
   "id": "59bf2386",
   "metadata": {},
   "outputs": [],
   "source": [
    "X_train, X_test, y_train, y_test = train_test_split(X_scaled_standard, y_data, test_size=0.2, random_state=30)"
   ]
  },
  {
   "cell_type": "code",
   "execution_count": 19,
   "id": "7e677b5a",
   "metadata": {},
   "outputs": [
    {
     "name": "stdout",
     "output_type": "stream",
     "text": [
      "DecisionTreeClassifier():  0.8389\n",
      "GaussianNB():  0.7919\n",
      "RandomForestClassifier():  0.8758\n",
      "AdaBoostClassifier():  0.7383\n",
      "GradientBoostingClassifier():  0.8960\n",
      "[15:53:30] WARNING: C:/Users/Administrator/workspace/xgboost-win64_release_1.5.1/src/learner.cc:1115: Starting in XGBoost 1.3.0, the default evaluation metric used with the objective 'multi:softprob' was changed from 'merror' to 'mlogloss'. Explicitly set eval_metric if you'd like to restore the old behavior.\n",
      "XGBClassifier(base_score=0.5, booster='gbtree', colsample_bylevel=1,\n",
      "              colsample_bynode=1, colsample_bytree=1, enable_categorical=False,\n",
      "              gamma=0, gpu_id=-1, importance_type=None,\n",
      "              interaction_constraints='', learning_rate=0.300000012,\n",
      "              max_delta_step=0, max_depth=6, min_child_weight=1, missing=nan,\n",
      "              monotone_constraints='()', n_estimators=100, n_jobs=8,\n",
      "              num_parallel_tree=1, objective='multi:softprob', predictor='auto',\n",
      "              random_state=0, reg_alpha=0, reg_lambda=1, scale_pos_weight=None,\n",
      "              subsample=1, tree_method='exact', validate_parameters=1,\n",
      "              verbosity=None):  0.9027\n",
      "LGBMClassifier():  0.8893\n"
     ]
    }
   ],
   "source": [
    "from sklearn.tree import DecisionTreeClassifier\n",
    "from sklearn.naive_bayes import GaussianNB\n",
    "from sklearn.ensemble import RandomForestClassifier\n",
    "from sklearn.ensemble import AdaBoostClassifier\n",
    "from sklearn.ensemble import GradientBoostingClassifier\n",
    "from xgboost import XGBClassifier\n",
    "from lightgbm import LGBMClassifier\n",
    "from sklearn.metrics import accuracy_score\n",
    "import warnings\n",
    "\n",
    "warnings.filterwarnings('ignore')\n",
    "\n",
    "tree = DecisionTreeClassifier()\n",
    "GNB = GaussianNB()\n",
    "rf = RandomForestClassifier()\n",
    "ada = AdaBoostClassifier()\n",
    "gb = GradientBoostingClassifier()\n",
    "xgb = XGBClassifier()\n",
    "lgbm = LGBMClassifier()\n",
    "\n",
    "for model in [tree, GNB, rf, ada, gb, xgb, lgbm]:\n",
    "    model.fit(X_train, y_train)\n",
    "    pred_model = model.predict(X_test)\n",
    "    accuracy = accuracy_score(y_test, pred_model)\n",
    "    \n",
    "    print('{0}: {1: .4f}'.format(model, accuracy))"
   ]
  },
  {
   "cell_type": "code",
   "execution_count": 20,
   "id": "b2e7335a",
   "metadata": {},
   "outputs": [],
   "source": [
    "data = pd.read_csv('Electronics_train.csv')\n",
    "data = data = data.iloc[:,1:]\n",
    "data.drop(['3G', 'blue', 'dual', 'wifi', '4G', 'ts'], inplace=True, axis=1)"
   ]
  },
  {
   "cell_type": "code",
   "execution_count": 21,
   "id": "0e86ba72",
   "metadata": {},
   "outputs": [],
   "source": [
    "#-2 z score(표준화 후 이상치 제거)\n",
    "\n",
    "X_data = data.iloc[:,:-1]\n",
    "y_data = data.iloc[:,-1]\n",
    "\n",
    "from sklearn.preprocessing import StandardScaler\n",
    "\n",
    "scaler = StandardScaler()\n",
    "X_scaled = scaler.fit_transform(X_data)"
   ]
  },
  {
   "cell_type": "code",
   "execution_count": 22,
   "id": "b191b588",
   "metadata": {},
   "outputs": [],
   "source": [
    "X_scaled_df = pd.DataFrame(X_scaled, columns=X_data.columns)"
   ]
  },
  {
   "cell_type": "code",
   "execution_count": 23,
   "id": "6f2e3c1c",
   "metadata": {},
   "outputs": [
    {
     "data": {
      "text/html": [
       "<div>\n",
       "<style scoped>\n",
       "    .dataframe tbody tr th:only-of-type {\n",
       "        vertical-align: middle;\n",
       "    }\n",
       "\n",
       "    .dataframe tbody tr th {\n",
       "        vertical-align: top;\n",
       "    }\n",
       "\n",
       "    .dataframe thead th {\n",
       "        text-align: right;\n",
       "    }\n",
       "</style>\n",
       "<table border=\"1\" class=\"dataframe\">\n",
       "  <thead>\n",
       "    <tr style=\"text-align: right;\">\n",
       "      <th></th>\n",
       "      <th>BP</th>\n",
       "      <th>c_speed</th>\n",
       "      <th>front_c</th>\n",
       "      <th>m_int</th>\n",
       "      <th>m_dep</th>\n",
       "      <th>m_wt</th>\n",
       "      <th>n_cores</th>\n",
       "      <th>prim_c</th>\n",
       "      <th>px_h</th>\n",
       "      <th>px_w</th>\n",
       "      <th>ram</th>\n",
       "      <th>sc_h</th>\n",
       "      <th>sc_w</th>\n",
       "      <th>talk_t</th>\n",
       "    </tr>\n",
       "  </thead>\n",
       "  <tbody>\n",
       "    <tr>\n",
       "      <th>0</th>\n",
       "      <td>-0.908428</td>\n",
       "      <td>0.832539</td>\n",
       "      <td>-0.759235</td>\n",
       "      <td>-1.408691</td>\n",
       "      <td>0.350508</td>\n",
       "      <td>1.336082</td>\n",
       "      <td>-1.090027</td>\n",
       "      <td>-1.296378</td>\n",
       "      <td>-1.418046</td>\n",
       "      <td>-1.150394</td>\n",
       "      <td>0.384162</td>\n",
       "      <td>-0.793792</td>\n",
       "      <td>0.287837</td>\n",
       "      <td>1.460049</td>\n",
       "    </tr>\n",
       "    <tr>\n",
       "      <th>1</th>\n",
       "      <td>-0.500831</td>\n",
       "      <td>-1.252078</td>\n",
       "      <td>-0.989167</td>\n",
       "      <td>1.125718</td>\n",
       "      <td>0.700550</td>\n",
       "      <td>-0.141340</td>\n",
       "      <td>-0.654365</td>\n",
       "      <td>-0.637705</td>\n",
       "      <td>0.576155</td>\n",
       "      <td>1.724027</td>\n",
       "      <td>0.458924</td>\n",
       "      <td>1.110167</td>\n",
       "      <td>-0.636199</td>\n",
       "      <td>-0.763752</td>\n",
       "    </tr>\n",
       "    <tr>\n",
       "      <th>2</th>\n",
       "      <td>-1.543732</td>\n",
       "      <td>-1.252078</td>\n",
       "      <td>-0.529303</td>\n",
       "      <td>0.464568</td>\n",
       "      <td>1.400633</td>\n",
       "      <td>0.114368</td>\n",
       "      <td>0.216960</td>\n",
       "      <td>-0.637705</td>\n",
       "      <td>1.382849</td>\n",
       "      <td>1.089415</td>\n",
       "      <td>0.433395</td>\n",
       "      <td>-0.317802</td>\n",
       "      <td>-0.867208</td>\n",
       "      <td>-0.393119</td>\n",
       "    </tr>\n",
       "    <tr>\n",
       "      <th>3</th>\n",
       "      <td>-1.425324</td>\n",
       "      <td>1.200412</td>\n",
       "      <td>-0.989167</td>\n",
       "      <td>-1.243403</td>\n",
       "      <td>1.050591</td>\n",
       "      <td>-0.283400</td>\n",
       "      <td>0.652622</td>\n",
       "      <td>-0.143700</td>\n",
       "      <td>1.276942</td>\n",
       "      <td>1.252734</td>\n",
       "      <td>0.584743</td>\n",
       "      <td>0.872172</td>\n",
       "      <td>0.518846</td>\n",
       "      <td>-0.022485</td>\n",
       "    </tr>\n",
       "    <tr>\n",
       "      <th>4</th>\n",
       "      <td>1.320830</td>\n",
       "      <td>-0.393706</td>\n",
       "      <td>1.999947</td>\n",
       "      <td>0.629856</td>\n",
       "      <td>0.350508</td>\n",
       "      <td>0.000720</td>\n",
       "      <td>-1.090027</td>\n",
       "      <td>0.679641</td>\n",
       "      <td>1.258915</td>\n",
       "      <td>-0.086485</td>\n",
       "      <td>-0.653392</td>\n",
       "      <td>-1.031787</td>\n",
       "      <td>-0.867208</td>\n",
       "      <td>0.718782</td>\n",
       "    </tr>\n",
       "  </tbody>\n",
       "</table>\n",
       "</div>"
      ],
      "text/plain": [
       "         BP   c_speed   front_c     m_int     m_dep      m_wt   n_cores  \\\n",
       "0 -0.908428  0.832539 -0.759235 -1.408691  0.350508  1.336082 -1.090027   \n",
       "1 -0.500831 -1.252078 -0.989167  1.125718  0.700550 -0.141340 -0.654365   \n",
       "2 -1.543732 -1.252078 -0.529303  0.464568  1.400633  0.114368  0.216960   \n",
       "3 -1.425324  1.200412 -0.989167 -1.243403  1.050591 -0.283400  0.652622   \n",
       "4  1.320830 -0.393706  1.999947  0.629856  0.350508  0.000720 -1.090027   \n",
       "\n",
       "     prim_c      px_h      px_w       ram      sc_h      sc_w    talk_t  \n",
       "0 -1.296378 -1.418046 -1.150394  0.384162 -0.793792  0.287837  1.460049  \n",
       "1 -0.637705  0.576155  1.724027  0.458924  1.110167 -0.636199 -0.763752  \n",
       "2 -0.637705  1.382849  1.089415  0.433395 -0.317802 -0.867208 -0.393119  \n",
       "3 -0.143700  1.276942  1.252734  0.584743  0.872172  0.518846 -0.022485  \n",
       "4  0.679641  1.258915 -0.086485 -0.653392 -1.031787 -0.867208  0.718782  "
      ]
     },
     "execution_count": 23,
     "metadata": {},
     "output_type": "execute_result"
    }
   ],
   "source": [
    "X_scaled_df.head()"
   ]
  },
  {
   "cell_type": "code",
   "execution_count": 24,
   "id": "2ed8ed4b",
   "metadata": {},
   "outputs": [],
   "source": [
    "scaled_data = pd.concat([X_scaled_df, y_data], axis=1)"
   ]
  },
  {
   "cell_type": "code",
   "execution_count": 25,
   "id": "44c6843e",
   "metadata": {},
   "outputs": [
    {
     "name": "stdout",
     "output_type": "stream",
     "text": [
      "BP\n",
      "Int64Index([], dtype='int64') \n",
      "\n",
      "c_speed\n",
      "Int64Index([], dtype='int64') \n",
      "\n",
      "front_c\n",
      "Int64Index([95, 226, 305, 1387, 1406, 1416], dtype='int64') \n",
      "\n",
      "m_int\n",
      "Int64Index([], dtype='int64') \n",
      "\n",
      "m_dep\n",
      "Int64Index([], dtype='int64') \n",
      "\n",
      "m_wt\n",
      "Int64Index([], dtype='int64') \n",
      "\n",
      "n_cores\n",
      "Int64Index([], dtype='int64') \n",
      "\n",
      "prim_c\n",
      "Int64Index([], dtype='int64') \n",
      "\n",
      "px_h\n",
      "Int64Index([], dtype='int64') \n",
      "\n",
      "px_w\n",
      "Int64Index([], dtype='int64') \n",
      "\n",
      "ram\n",
      "Int64Index([], dtype='int64') \n",
      "\n",
      "sc_h\n",
      "Int64Index([], dtype='int64') \n",
      "\n",
      "sc_w\n",
      "Int64Index([], dtype='int64') \n",
      "\n",
      "talk_t\n",
      "Int64Index([], dtype='int64') \n",
      "\n",
      "target\n",
      "Int64Index([], dtype='int64') \n",
      "\n"
     ]
    }
   ],
   "source": [
    "#이상치 확인 \n",
    " \n",
    "from scipy import stats\n",
    "\n",
    "for i in scaled_data.columns:\n",
    "    z_score = stats.zscore(scaled_data[i])\n",
    "    print(i)\n",
    "    print(scaled_data[~z_score.between(-3,3)].index,'\\n')"
   ]
  },
  {
   "cell_type": "code",
   "execution_count": 26,
   "id": "96f2e7d1",
   "metadata": {},
   "outputs": [],
   "source": [
    "#이상치 제거\n",
    "\n",
    "z_score = stats.zscore(scaled_data['front_c'])\n",
    "standard_data = scaled_data[z_score.between(-3,3)]"
   ]
  },
  {
   "cell_type": "code",
   "execution_count": 27,
   "id": "210fda78",
   "metadata": {},
   "outputs": [],
   "source": [
    "X_data = standard_data.iloc[:,:-1]\n",
    "y_data = standard_data.iloc[:,-1]"
   ]
  },
  {
   "cell_type": "code",
   "execution_count": 28,
   "id": "a143c9e2",
   "metadata": {},
   "outputs": [],
   "source": [
    "X_train, X_test, y_train, y_test = train_test_split(X_data, y_data, test_size=0.2, random_state=30)"
   ]
  },
  {
   "cell_type": "code",
   "execution_count": 29,
   "id": "723dde0e",
   "metadata": {},
   "outputs": [
    {
     "name": "stdout",
     "output_type": "stream",
     "text": [
      "DecisionTreeClassifier():  0.8161\n",
      "GaussianNB():  0.8194\n",
      "RandomForestClassifier():  0.8829\n",
      "AdaBoostClassifier():  0.7324\n",
      "GradientBoostingClassifier():  0.9130\n",
      "[15:53:55] WARNING: C:/Users/Administrator/workspace/xgboost-win64_release_1.5.1/src/learner.cc:1115: Starting in XGBoost 1.3.0, the default evaluation metric used with the objective 'multi:softprob' was changed from 'merror' to 'mlogloss'. Explicitly set eval_metric if you'd like to restore the old behavior.\n",
      "XGBClassifier(base_score=0.5, booster='gbtree', colsample_bylevel=1,\n",
      "              colsample_bynode=1, colsample_bytree=1, enable_categorical=False,\n",
      "              gamma=0, gpu_id=-1, importance_type=None,\n",
      "              interaction_constraints='', learning_rate=0.300000012,\n",
      "              max_delta_step=0, max_depth=6, min_child_weight=1, missing=nan,\n",
      "              monotone_constraints='()', n_estimators=100, n_jobs=8,\n",
      "              num_parallel_tree=1, objective='multi:softprob', predictor='auto',\n",
      "              random_state=0, reg_alpha=0, reg_lambda=1, scale_pos_weight=None,\n",
      "              subsample=1, tree_method='exact', validate_parameters=1,\n",
      "              verbosity=None):  0.9164\n",
      "LGBMClassifier():  0.9231\n"
     ]
    }
   ],
   "source": [
    "from sklearn.tree import DecisionTreeClassifier\n",
    "from sklearn.naive_bayes import GaussianNB\n",
    "from sklearn.ensemble import RandomForestClassifier\n",
    "from sklearn.ensemble import AdaBoostClassifier\n",
    "from sklearn.ensemble import GradientBoostingClassifier\n",
    "from xgboost import XGBClassifier\n",
    "from lightgbm import LGBMClassifier\n",
    "from sklearn.metrics import accuracy_score\n",
    "import warnings\n",
    "\n",
    "warnings.filterwarnings('ignore')\n",
    "\n",
    "tree = DecisionTreeClassifier()\n",
    "GNB = GaussianNB()\n",
    "rf = RandomForestClassifier()\n",
    "ada = AdaBoostClassifier()\n",
    "gb = GradientBoostingClassifier()\n",
    "xgb = XGBClassifier()\n",
    "lgbm = LGBMClassifier()\n",
    "\n",
    "for model in [tree, GNB, rf, ada, gb, xgb, lgbm]:\n",
    "    model.fit(X_train, y_train)\n",
    "    pred_model = model.predict(X_test)\n",
    "    accuracy = accuracy_score(y_test, pred_model)\n",
    "    \n",
    "    print('{0}: {1: .4f}'.format(model, accuracy))"
   ]
  },
  {
   "cell_type": "markdown",
   "id": "a4fdee8d",
   "metadata": {},
   "source": [
    "Light GBM 최대 : 92.3%"
   ]
  },
  {
   "cell_type": "code",
   "execution_count": 30,
   "id": "f10630e8",
   "metadata": {},
   "outputs": [],
   "source": [
    "#LGBM, XGBM, RF feture importance 중 상위 10개 중복 feature 선택(성윤 캐글 참고)\n",
    "\n",
    "sel_data = data[['BP', 'c_speed','m_int', 'm_wt', 'px_h', 'px_w', 'ram', 'talk_t', 'target']]"
   ]
  },
  {
   "cell_type": "code",
   "execution_count": 31,
   "id": "28cce69a",
   "metadata": {},
   "outputs": [],
   "source": [
    "X_data = sel_data.iloc[:,:-1]\n",
    "y_data = sel_data.iloc[:,-1]"
   ]
  },
  {
   "cell_type": "code",
   "execution_count": 32,
   "id": "5f0a751b",
   "metadata": {},
   "outputs": [],
   "source": [
    "# Standardscaler\n",
    "\n",
    "from sklearn.preprocessing import StandardScaler\n",
    "\n",
    "standard = StandardScaler()\n",
    "X_scaled_standard = standard.fit_transform(X_data)"
   ]
  },
  {
   "cell_type": "code",
   "execution_count": 33,
   "id": "3f2458ca",
   "metadata": {},
   "outputs": [],
   "source": [
    "X_train, X_test, y_train, y_test = train_test_split(X_scaled_standard, y_data, test_size=0.2, random_state=30)"
   ]
  },
  {
   "cell_type": "code",
   "execution_count": 34,
   "id": "dcf50acf",
   "metadata": {},
   "outputs": [
    {
     "name": "stdout",
     "output_type": "stream",
     "text": [
      "DecisionTreeClassifier():  0.8200\n",
      "GaussianNB():  0.7933\n",
      "RandomForestClassifier():  0.8967\n",
      "AdaBoostClassifier():  0.7233\n",
      "GradientBoostingClassifier():  0.9000\n",
      "[15:54:10] WARNING: C:/Users/Administrator/workspace/xgboost-win64_release_1.5.1/src/learner.cc:1115: Starting in XGBoost 1.3.0, the default evaluation metric used with the objective 'multi:softprob' was changed from 'merror' to 'mlogloss'. Explicitly set eval_metric if you'd like to restore the old behavior.\n",
      "XGBClassifier(base_score=0.5, booster='gbtree', colsample_bylevel=1,\n",
      "              colsample_bynode=1, colsample_bytree=1, enable_categorical=False,\n",
      "              gamma=0, gpu_id=-1, importance_type=None,\n",
      "              interaction_constraints='', learning_rate=0.300000012,\n",
      "              max_delta_step=0, max_depth=6, min_child_weight=1, missing=nan,\n",
      "              monotone_constraints='()', n_estimators=100, n_jobs=8,\n",
      "              num_parallel_tree=1, objective='multi:softprob', predictor='auto',\n",
      "              random_state=0, reg_alpha=0, reg_lambda=1, scale_pos_weight=None,\n",
      "              subsample=1, tree_method='exact', validate_parameters=1,\n",
      "              verbosity=None):  0.9033\n",
      "LGBMClassifier():  0.9067\n"
     ]
    }
   ],
   "source": [
    "from sklearn.tree import DecisionTreeClassifier\n",
    "from sklearn.naive_bayes import GaussianNB\n",
    "from sklearn.ensemble import RandomForestClassifier\n",
    "from sklearn.ensemble import AdaBoostClassifier\n",
    "from sklearn.ensemble import GradientBoostingClassifier\n",
    "from xgboost import XGBClassifier\n",
    "from lightgbm import LGBMClassifier\n",
    "from sklearn.metrics import accuracy_score\n",
    "import warnings\n",
    "\n",
    "warnings.filterwarnings('ignore')\n",
    "\n",
    "tree = DecisionTreeClassifier()\n",
    "GNB = GaussianNB()\n",
    "rf = RandomForestClassifier()\n",
    "ada = AdaBoostClassifier()\n",
    "gb = GradientBoostingClassifier()\n",
    "xgb = XGBClassifier()\n",
    "lgbm = LGBMClassifier()\n",
    "\n",
    "for model in [tree, GNB, rf, ada, gb, xgb, lgbm]:\n",
    "    model.fit(X_train, y_train)\n",
    "    pred_model = model.predict(X_test)\n",
    "    accuracy = accuracy_score(y_test, pred_model)\n",
    "    \n",
    "    print('{0}: {1: .4f}'.format(model, accuracy))"
   ]
  },
  {
   "cell_type": "code",
   "execution_count": 35,
   "id": "f9300ffd",
   "metadata": {},
   "outputs": [],
   "source": [
    "sel_data = data[['BP', 'm_wt', 'px_h', 'px_w', 'ram', 'target']]"
   ]
  },
  {
   "cell_type": "code",
   "execution_count": 36,
   "id": "78e3390a",
   "metadata": {},
   "outputs": [],
   "source": [
    "X_data = sel_data.iloc[:,:-1]\n",
    "y_data = sel_data.iloc[:,-1]"
   ]
  },
  {
   "cell_type": "code",
   "execution_count": 37,
   "id": "0888ae75",
   "metadata": {},
   "outputs": [],
   "source": [
    "# Standardscaler\n",
    "\n",
    "from sklearn.preprocessing import StandardScaler\n",
    "\n",
    "standard = StandardScaler()\n",
    "X_scaled_standard = standard.fit_transform(X_data)"
   ]
  },
  {
   "cell_type": "code",
   "execution_count": 38,
   "id": "c8f1a5f9",
   "metadata": {},
   "outputs": [],
   "source": [
    "X_train, X_test, y_train, y_test = train_test_split(X_scaled_standard, y_data, test_size=0.2, random_state=30)"
   ]
  },
  {
   "cell_type": "code",
   "execution_count": 39,
   "id": "4e5d4189",
   "metadata": {},
   "outputs": [
    {
     "name": "stdout",
     "output_type": "stream",
     "text": [
      "DecisionTreeClassifier():  0.8267\n",
      "GaussianNB():  0.7933\n",
      "RandomForestClassifier():  0.9233\n",
      "AdaBoostClassifier():  0.7167\n",
      "GradientBoostingClassifier():  0.9033\n",
      "[15:54:19] WARNING: C:/Users/Administrator/workspace/xgboost-win64_release_1.5.1/src/learner.cc:1115: Starting in XGBoost 1.3.0, the default evaluation metric used with the objective 'multi:softprob' was changed from 'merror' to 'mlogloss'. Explicitly set eval_metric if you'd like to restore the old behavior.\n",
      "XGBClassifier(base_score=0.5, booster='gbtree', colsample_bylevel=1,\n",
      "              colsample_bynode=1, colsample_bytree=1, enable_categorical=False,\n",
      "              gamma=0, gpu_id=-1, importance_type=None,\n",
      "              interaction_constraints='', learning_rate=0.300000012,\n",
      "              max_delta_step=0, max_depth=6, min_child_weight=1, missing=nan,\n",
      "              monotone_constraints='()', n_estimators=100, n_jobs=8,\n",
      "              num_parallel_tree=1, objective='multi:softprob', predictor='auto',\n",
      "              random_state=0, reg_alpha=0, reg_lambda=1, scale_pos_weight=None,\n",
      "              subsample=1, tree_method='exact', validate_parameters=1,\n",
      "              verbosity=None):  0.9200\n",
      "LGBMClassifier():  0.9167\n"
     ]
    }
   ],
   "source": [
    "from sklearn.tree import DecisionTreeClassifier\n",
    "from sklearn.naive_bayes import GaussianNB\n",
    "from sklearn.ensemble import RandomForestClassifier\n",
    "from sklearn.ensemble import AdaBoostClassifier\n",
    "from sklearn.ensemble import GradientBoostingClassifier\n",
    "from xgboost import XGBClassifier\n",
    "from lightgbm import LGBMClassifier\n",
    "from sklearn.metrics import accuracy_score\n",
    "import warnings\n",
    "\n",
    "warnings.filterwarnings('ignore')\n",
    "\n",
    "tree = DecisionTreeClassifier()\n",
    "GNB = GaussianNB()\n",
    "rf = RandomForestClassifier()\n",
    "ada = AdaBoostClassifier()\n",
    "gb = GradientBoostingClassifier()\n",
    "xgb = XGBClassifier()\n",
    "lgbm = LGBMClassifier()\n",
    "\n",
    "for model in [tree, GNB, rf, ada, gb, xgb, lgbm]:\n",
    "    model.fit(X_train, y_train)\n",
    "    pred_model = model.predict(X_test)\n",
    "    accuracy = accuracy_score(y_test, pred_model)\n",
    "    \n",
    "    print('{0}: {1: .4f}'.format(model, accuracy))"
   ]
  },
  {
   "cell_type": "code",
   "execution_count": 45,
   "id": "8d9d9cfe",
   "metadata": {},
   "outputs": [
    {
     "name": "stdout",
     "output_type": "stream",
     "text": [
      "[15:57:05] WARNING: C:/Users/Administrator/workspace/xgboost-win64_release_1.5.1/src/learner.cc:1115: Starting in XGBoost 1.3.0, the default evaluation metric used with the objective 'multi:softprob' was changed from 'merror' to 'mlogloss'. Explicitly set eval_metric if you'd like to restore the old behavior.\n",
      "XGBClassifier(base_score=0.5, booster='gbtree', colsample_bylevel=1,\n",
      "              colsample_bynode=1, colsample_bytree=1, enable_categorical=False,\n",
      "              gamma=0, gpu_id=-1, importance_type=None,\n",
      "              interaction_constraints='', learning_rate=0.300000012,\n",
      "              max_delta_step=0, max_depth=6, min_child_weight=1, missing=nan,\n",
      "              monotone_constraints='()', n_estimators=100, n_jobs=8,\n",
      "              num_parallel_tree=1, objective='multi:softprob', predictor='auto',\n",
      "              random_state=0, reg_alpha=0, reg_lambda=1, scale_pos_weight=None,\n",
      "              subsample=1, tree_method='exact', validate_parameters=1,\n",
      "              verbosity=None):  0.9200\n"
     ]
    }
   ],
   "source": [
    "model = xgb\n",
    "model.fit(X_train, y_train)\n",
    "pred_model = model.predict(X_test)\n",
    "accuracy = accuracy_score(y_test, pred_model)\n",
    "\n",
    "print('{0}: {1: .4f}'.format(model, accuracy))"
   ]
  },
  {
   "cell_type": "code",
   "execution_count": 78,
   "id": "9e097033",
   "metadata": {},
   "outputs": [],
   "source": [
    "df = pd.read_csv('Electronics_train.csv')"
   ]
  },
  {
   "cell_type": "code",
   "execution_count": 79,
   "id": "422645ba",
   "metadata": {},
   "outputs": [],
   "source": [
    "df.drop(['dual','4G','3G','ts','wifi','blue'], inplace = True, axis=1)\n",
    "bye_outlier(df=df, column='front_c',weight=1.5)"
   ]
  },
  {
   "cell_type": "code",
   "execution_count": 83,
   "id": "716d8527",
   "metadata": {},
   "outputs": [],
   "source": [
    "X = df.iloc[:,:-1]\n",
    "y = df.iloc[:,-1]\n",
    "\n",
    "ss = StandardScaler()\n",
    "scaled_X_standard = ss.fit_transform(X)\n",
    "\n",
    "X_train, X_test, y_train, y_test = train_test_split(scaled_X_standard, y, test_size=0.2)"
   ]
  },
  {
   "cell_type": "code",
   "execution_count": 84,
   "id": "66bf1980",
   "metadata": {},
   "outputs": [
    {
     "name": "stdout",
     "output_type": "stream",
     "text": [
      "[16:19:18] WARNING: C:/Users/Administrator/workspace/xgboost-win64_release_1.5.1/src/learner.cc:1115: Starting in XGBoost 1.3.0, the default evaluation metric used with the objective 'multi:softprob' was changed from 'merror' to 'mlogloss'. Explicitly set eval_metric if you'd like to restore the old behavior.\n",
      "XGBClassifier(base_score=0.5, booster='gbtree', colsample_bylevel=1,\n",
      "              colsample_bynode=1, colsample_bytree=1, enable_categorical=False,\n",
      "              gamma=0, gpu_id=-1, importance_type=None,\n",
      "              interaction_constraints='', learning_rate=0.300000012,\n",
      "              max_delta_step=0, max_depth=6, min_child_weight=1, missing=nan,\n",
      "              monotone_constraints='()', n_estimators=100, n_jobs=8,\n",
      "              num_parallel_tree=1, objective='multi:softprob', predictor='auto',\n",
      "              random_state=0, reg_alpha=0, reg_lambda=1, scale_pos_weight=None,\n",
      "              subsample=1, tree_method='exact', validate_parameters=1,\n",
      "              verbosity=None):  0.9329\n"
     ]
    }
   ],
   "source": [
    "model = xgb\n",
    "model.fit(X_train, y_train)\n",
    "pred_model = model.predict(X_test)\n",
    "accuracy = accuracy_score(y_test, pred_model)\n",
    "\n",
    "print('{0}: {1: .4f}'.format(model, accuracy))"
   ]
  },
  {
   "cell_type": "code",
   "execution_count": 121,
   "id": "fd7843c4",
   "metadata": {},
   "outputs": [
    {
     "name": "stdout",
     "output_type": "stream",
     "text": [
      "[16:45:21] WARNING: C:/Users/Administrator/workspace/xgboost-win64_release_1.5.1/src/learner.cc:1115: Starting in XGBoost 1.3.0, the default evaluation metric used with the objective 'multi:softprob' was changed from 'merror' to 'mlogloss'. Explicitly set eval_metric if you'd like to restore the old behavior.\n",
      "0.9328859060402684\n"
     ]
    }
   ],
   "source": [
    "xgb = XGBClassifier(base_score=0.5, booster='gbtree', colsample_bylevel=1,\n",
    "              colsample_bynode=1, colsample_bytree=1, enable_categorical=False,\n",
    "              gamma=0, gpu_id=-1, importance_type=None,\n",
    "              interaction_constraints='', learning_rate=0.300000012,\n",
    "              max_delta_step=0, max_depth=5, min_child_weight=1,\n",
    "              monotone_constraints='()', n_estimators=100, n_jobs=8,\n",
    "              num_parallel_tree=1, objective='multi:softprob', predictor='auto',\n",
    "              random_state=0, reg_alpha=0, reg_lambda=1, scale_pos_weight=None,\n",
    "              subsample=1, tree_method='exact', validate_parameters=1,\n",
    "              verbosity=None)\n",
    "\n",
    "xgb.fit(X_train, y_train)\n",
    "preds = xgb.predict(X_test)\n",
    "\n",
    "print(accuracy_score(y_test, preds))"
   ]
  },
  {
   "cell_type": "code",
   "execution_count": null,
   "id": "f880b3f5",
   "metadata": {},
   "outputs": [],
   "source": []
  },
  {
   "cell_type": "code",
   "execution_count": 119,
   "id": "e1926964",
   "metadata": {},
   "outputs": [
    {
     "name": "stdout",
     "output_type": "stream",
     "text": [
      "[16:40:29] WARNING: C:/Users/Administrator/workspace/xgboost-win64_release_1.5.1/src/learner.cc:1115: Starting in XGBoost 1.3.0, the default evaluation metric used with the objective 'multi:softprob' was changed from 'merror' to 'mlogloss'. Explicitly set eval_metric if you'd like to restore the old behavior.\n"
     ]
    }
   ],
   "source": [
    "from sklearn.ensemble import VotingClassifier\n",
    "\n",
    "voting_s = VotingClassifier(estimators=[('RF',rf), ('XGB',xgb),('LGBM',lgbm),('GB',gb),('LR',lr),('KNN',knn)], voting='soft')\n",
    "\n",
    "voting_s.fit(X_train, y_train)\n",
    "pred_s = voting_s.predict(X_test)"
   ]
  },
  {
   "cell_type": "code",
   "execution_count": 120,
   "id": "2521306c",
   "metadata": {},
   "outputs": [
    {
     "data": {
      "text/plain": [
       "0.9295302013422819"
      ]
     },
     "execution_count": 120,
     "metadata": {},
     "output_type": "execute_result"
    }
   ],
   "source": [
    "accuracy_score(y_test, pred_s)"
   ]
  },
  {
   "cell_type": "code",
   "execution_count": 115,
   "id": "ab9afb11",
   "metadata": {},
   "outputs": [],
   "source": [
    "from sklearn.linear_model import LogisticRegression\n",
    "from sklearn.neighbors import KNeighborsClassifier\n",
    "\n",
    "lr = LogisticRegression()\n",
    "knn = KNeighborsClassifier()"
   ]
  },
  {
   "cell_type": "code",
   "execution_count": 116,
   "id": "726024f1",
   "metadata": {},
   "outputs": [
    {
     "data": {
      "text/plain": [
       "0.9261744966442953"
      ]
     },
     "execution_count": 116,
     "metadata": {},
     "output_type": "execute_result"
    }
   ],
   "source": [
    "voting_s = VotingClassifier(estimators=[('RF',rf), ('LR',lr),('KNN',knn)], voting='soft')\n",
    "\n",
    "voting_s.fit(X_train, y_train)\n",
    "pred_s = voting_s.predict(X_test)\n",
    "\n",
    "accuracy_score(y_test, pred_s)"
   ]
  },
  {
   "cell_type": "code",
   "execution_count": 135,
   "id": "894098b5",
   "metadata": {},
   "outputs": [],
   "source": [
    "data = pd.read_csv('Electronics_train.csv')"
   ]
  },
  {
   "cell_type": "code",
   "execution_count": 136,
   "id": "10909ab5",
   "metadata": {},
   "outputs": [],
   "source": [
    "sel_data = data[['BP', 'c_speed','m_int', 'm_wt', 'px_h', 'px_w', 'ram', 'talk_t', 'target']]"
   ]
  },
  {
   "cell_type": "code",
   "execution_count": 137,
   "id": "991df4df",
   "metadata": {},
   "outputs": [],
   "source": [
    "X = df.iloc[:,:-1]\n",
    "y = df.iloc[:,-1]\n",
    "\n",
    "ss = StandardScaler()\n",
    "scaled_X_standard = ss.fit_transform(X)\n",
    "\n",
    "X_train, X_test, y_train, y_test = train_test_split(scaled_X_standard, y, test_size=0.2)"
   ]
  },
  {
   "cell_type": "code",
   "execution_count": 138,
   "id": "cb6a181d",
   "metadata": {},
   "outputs": [
    {
     "name": "stdout",
     "output_type": "stream",
     "text": [
      "[16:55:43] WARNING: C:/Users/Administrator/workspace/xgboost-win64_release_1.5.1/src/learner.cc:1115: Starting in XGBoost 1.3.0, the default evaluation metric used with the objective 'multi:softprob' was changed from 'merror' to 'mlogloss'. Explicitly set eval_metric if you'd like to restore the old behavior.\n",
      "XGBClassifier(base_score=0.5, booster='gbtree', colsample_bylevel=1,\n",
      "              colsample_bynode=1, colsample_bytree=1, enable_categorical=False,\n",
      "              gamma=0, gpu_id=-1, importance_type=None,\n",
      "              interaction_constraints='', learning_rate=0.300000012,\n",
      "              max_delta_step=0, max_depth=5, min_child_weight=1, missing=nan,\n",
      "              monotone_constraints='()', n_estimators=100, n_jobs=8,\n",
      "              num_parallel_tree=1, objective='multi:softprob', predictor='auto',\n",
      "              random_state=0, reg_alpha=0, reg_lambda=1, scale_pos_weight=None,\n",
      "              subsample=1, tree_method='exact', validate_parameters=1,\n",
      "              verbosity=None):  0.9295\n"
     ]
    }
   ],
   "source": [
    "model = xgb\n",
    "model.fit(X_train, y_train)\n",
    "pred_model = model.predict(X_test)\n",
    "accuracy = accuracy_score(y_test, pred_model)\n",
    "\n",
    "print('{0}: {1: .4f}'.format(model, accuracy))"
   ]
  },
  {
   "cell_type": "code",
   "execution_count": 141,
   "id": "ab5e7b75",
   "metadata": {},
   "outputs": [
    {
     "name": "stdout",
     "output_type": "stream",
     "text": [
      "DecisionTreeClassifier():  0.8523\n",
      "GaussianNB():  0.7852\n",
      "RandomForestClassifier():  0.9128\n",
      "AdaBoostClassifier():  0.7383\n",
      "GradientBoostingClassifier():  0.9060\n",
      "[16:56:56] WARNING: C:/Users/Administrator/workspace/xgboost-win64_release_1.5.1/src/learner.cc:1115: Starting in XGBoost 1.3.0, the default evaluation metric used with the objective 'multi:softprob' was changed from 'merror' to 'mlogloss'. Explicitly set eval_metric if you'd like to restore the old behavior.\n",
      "XGBClassifier(base_score=0.5, booster='gbtree', colsample_bylevel=1,\n",
      "              colsample_bynode=1, colsample_bytree=1, enable_categorical=False,\n",
      "              gamma=0, gpu_id=-1, importance_type=None,\n",
      "              interaction_constraints='', learning_rate=0.300000012,\n",
      "              max_delta_step=0, max_depth=6, min_child_weight=1, missing=nan,\n",
      "              monotone_constraints='()', n_estimators=100, n_jobs=8,\n",
      "              num_parallel_tree=1, objective='multi:softprob', predictor='auto',\n",
      "              random_state=0, reg_alpha=0, reg_lambda=1, scale_pos_weight=None,\n",
      "              subsample=1, tree_method='exact', validate_parameters=1,\n",
      "              verbosity=None):  0.9228\n",
      "LGBMClassifier():  0.9295\n"
     ]
    }
   ],
   "source": [
    "from sklearn.tree import DecisionTreeClassifier\n",
    "from sklearn.naive_bayes import GaussianNB\n",
    "from sklearn.ensemble import RandomForestClassifier\n",
    "from sklearn.ensemble import AdaBoostClassifier\n",
    "from sklearn.ensemble import GradientBoostingClassifier\n",
    "from xgboost import XGBClassifier\n",
    "from lightgbm import LGBMClassifier\n",
    "from sklearn.metrics import accuracy_score\n",
    "import warnings\n",
    "\n",
    "warnings.filterwarnings('ignore')\n",
    "\n",
    "tree = DecisionTreeClassifier()\n",
    "GNB = GaussianNB()\n",
    "rf = RandomForestClassifier()\n",
    "ada = AdaBoostClassifier()\n",
    "gb = GradientBoostingClassifier()\n",
    "xgb = XGBClassifier()\n",
    "lgbm = LGBMClassifier()\n",
    "\n",
    "for model in [tree, GNB, rf, ada, gb, xgb, lgbm]:\n",
    "    model.fit(X_train, y_train)\n",
    "    pred_model = model.predict(X_test)\n",
    "    accuracy = accuracy_score(y_test, pred_model)\n",
    "    \n",
    "    print('{0}: {1: .4f}'.format(model, accuracy))"
   ]
  },
  {
   "cell_type": "code",
   "execution_count": 143,
   "id": "41eab766",
   "metadata": {},
   "outputs": [
    {
     "name": "stdout",
     "output_type": "stream",
     "text": [
      "[16:57:56] WARNING: C:/Users/Administrator/workspace/xgboost-win64_release_1.5.1/src/learner.cc:1115: Starting in XGBoost 1.3.0, the default evaluation metric used with the objective 'multi:softprob' was changed from 'merror' to 'mlogloss'. Explicitly set eval_metric if you'd like to restore the old behavior.\n"
     ]
    },
    {
     "data": {
      "text/plain": [
       "0.9261744966442953"
      ]
     },
     "execution_count": 143,
     "metadata": {},
     "output_type": "execute_result"
    }
   ],
   "source": [
    "voting_s = VotingClassifier(estimators=[('RF',rf), ('XGB',xgb),('LGBM',lgbm)], voting='soft')\n",
    "\n",
    "voting_s.fit(X_train, y_train)\n",
    "pred_s = voting_s.predict(X_test)\n",
    "\n",
    "accuracy_score(y_test, pred_s)"
   ]
  },
  {
   "cell_type": "code",
   "execution_count": null,
   "id": "82954c6b",
   "metadata": {},
   "outputs": [],
   "source": []
  }
 ],
 "metadata": {
  "kernelspec": {
   "display_name": "Python 3 (ipykernel)",
   "language": "python",
   "name": "python3"
  },
  "language_info": {
   "codemirror_mode": {
    "name": "ipython",
    "version": 3
   },
   "file_extension": ".py",
   "mimetype": "text/x-python",
   "name": "python",
   "nbconvert_exporter": "python",
   "pygments_lexer": "ipython3",
   "version": "3.7.3"
  }
 },
 "nbformat": 4,
 "nbformat_minor": 5
}
