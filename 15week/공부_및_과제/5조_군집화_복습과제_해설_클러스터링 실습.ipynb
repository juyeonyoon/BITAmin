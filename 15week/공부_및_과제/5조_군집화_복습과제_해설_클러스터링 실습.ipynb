{
 "cells": [
  {
   "cell_type": "markdown",
   "id": "5c83d3d0",
   "metadata": {},
   "source": [
    "# I. 군집화 개요"
   ]
  },
  {
   "cell_type": "markdown",
   "id": "6ed901a9",
   "metadata": {},
   "source": [
    "## 1-1 번  \n",
    "군집화을 하는 목적을 적고, 기존의 분류 알고리즘과 다른 차이점을 적어주세요"
   ]
  },
  {
   "cell_type": "markdown",
   "id": "f48c87e9",
   "metadata": {},
   "source": [
    "답안 : 군집화는 유사성이 높은 데이터들은 같은 그룹으로 묶고, 다른 데이터들은 멀리 떨어뜨리고자 하는 목적을 가지고 있다. 기존의 분류 알고리즘들은 Lable값이 있는 지도학습모델 이지만 군집화의 경우 Lable값이 없는 비지도 학습이라는 점에서 가장 큰 차이를 보인다."
   ]
  },
  {
   "cell_type": "markdown",
   "id": "f6af8276",
   "metadata": {},
   "source": [
    "## 1-2 번  \n",
    "군집화 모델을 평가하는 지표가 무엇인지 적고, 해당 지표가 무엇을 나타내는지 적어주세요"
   ]
  },
  {
   "cell_type": "markdown",
   "id": "b7e2f9ec",
   "metadata": {},
   "source": [
    "답안 : 실루엣 계수 (Silhouete Coefficient) , 실루엣 계수는 군집화가 얼마나 잘 됐는지를 나타내는 지표로서, -1부터 1사이의 값을 가진다. 군집내의 데이터포인트들이 서로 가까울수록, 타 군집 내부 데이터포인트와의 거리가 서로 멀 수록 1에 가까워진다."
   ]
  },
  {
   "cell_type": "markdown",
   "id": "ed94c6e1",
   "metadata": {},
   "source": [
    "## 1-3 번  \n",
    "군집화 수행 결과와 실루엣 계수가 다음와 같이 나타났을 때, 이때 군집화는 적절하게 이루어진 것인지, 아니라면 왜 아닌지까지 설명해주세요!"
   ]
  },
  {
   "cell_type": "markdown",
   "id": "4ec076ec",
   "metadata": {},
   "source": [
    " ![title](cluster.png)"
   ]
  },
  {
   "cell_type": "markdown",
   "id": "db12777c",
   "metadata": {},
   "source": [
    "### 실루엣 계수 : 0.7"
   ]
  },
  {
   "cell_type": "markdown",
   "id": "4d8ee37a",
   "metadata": {},
   "source": [
    "답안 : 적절하게 이루어지지 않았다. 실루엣 계수가 0.7로 꽤 높은 수치를 기록하였으나, 시각화를 통해 확인한 결과 군집화가 매우 잘 된 하나의 군집에 의해 평균이 높아진 경우라고 볼 수 있다. 파란색 군집을 제외한 나머지 군집들은 서로 겹쳐진 상태로, 이들의 실루엣 계수는 음수를 기록하고 있을 것이나, 파란색 군집의 실루엣 계수가 매우 높게 나와 실루엣 계수가 0.7로 높게 나온 것으로 보인다. 해결 방안으로는 군집의 개수를 줄이는 것이 있을 수 있다."
   ]
  },
  {
   "cell_type": "markdown",
   "id": "a74a9e61",
   "metadata": {},
   "source": [
    "## 1-4 번  \n",
    "군집화는 어떤 분야에서 유용하게 사용되는지 최소 3가지 적어주세요!   \n",
    "(구체적으로! ex : 경제분야 - 미래의 이자율을 예측하는데에 사용된다.)"
   ]
  },
  {
   "cell_type": "markdown",
   "id": "3d3d8c54",
   "metadata": {},
   "source": [
    "답안  \n",
    "       고객 세분화 - 고객들의 유형을 분류하여, 고객의 유형에 맞는 세부전략을 세울 수 있다.  \n",
    "       이미지 분류 - 이미지 내부의 객체들을 탐지하여, 객체들을 분리, 분류시킬 수 있다.  \n",
    "       이상 검출 - 특정 군집들에서 벗어난 이상치를 탐지하는 데에 용이하게 쓰일 수 있다."
   ]
  },
  {
   "cell_type": "markdown",
   "id": "c4431b7f",
   "metadata": {},
   "source": [
    "# II. 클러스터링"
   ]
  },
  {
   "cell_type": "markdown",
   "id": "96a975f9",
   "metadata": {},
   "source": [
    "## 문제 1. 실습문제  \n",
    "sklean에서 제공하는 load_wine dataset 활용"
   ]
  },
  {
   "cell_type": "code",
   "execution_count": 1,
   "id": "f16e3749",
   "metadata": {},
   "outputs": [],
   "source": [
    "import numpy as np \n",
    "import pandas as pd\n",
    "import matplotlib.pyplot as plt\n",
    "import seaborn as sns\n",
    "from mpl_toolkits.mplot3d import Axes3D\n",
    "\n",
    "from sklearn.preprocessing import StandardScaler\n",
    "\n",
    "from sklearn.cluster import AgglomerativeClustering\n",
    "from scipy.cluster.hierarchy import dendrogram, linkage\n",
    "from sklearn.cluster import KMeans\n",
    "\n",
    "import warnings\n",
    "import os\n",
    "warnings.filterwarnings(\"ignore\")"
   ]
  },
  {
   "cell_type": "code",
   "execution_count": 2,
   "id": "089e4a46",
   "metadata": {},
   "outputs": [],
   "source": [
    "#wine data 불러오기\n",
    "from sklearn.datasets import load_wine\n",
    "\n",
    "wine = load_wine()\n",
    "wine_df = pd.DataFrame(wine['data'], columns=wine['feature_names'])\n",
    "wine_df['target'] = wine['target']"
   ]
  },
  {
   "cell_type": "code",
   "execution_count": 3,
   "id": "c1ac74e1",
   "metadata": {},
   "outputs": [
    {
     "data": {
      "text/html": [
       "<div>\n",
       "<style scoped>\n",
       "    .dataframe tbody tr th:only-of-type {\n",
       "        vertical-align: middle;\n",
       "    }\n",
       "\n",
       "    .dataframe tbody tr th {\n",
       "        vertical-align: top;\n",
       "    }\n",
       "\n",
       "    .dataframe thead th {\n",
       "        text-align: right;\n",
       "    }\n",
       "</style>\n",
       "<table border=\"1\" class=\"dataframe\">\n",
       "  <thead>\n",
       "    <tr style=\"text-align: right;\">\n",
       "      <th></th>\n",
       "      <th>alcohol</th>\n",
       "      <th>malic_acid</th>\n",
       "      <th>ash</th>\n",
       "      <th>alcalinity_of_ash</th>\n",
       "      <th>magnesium</th>\n",
       "      <th>total_phenols</th>\n",
       "      <th>flavanoids</th>\n",
       "      <th>nonflavanoid_phenols</th>\n",
       "      <th>proanthocyanins</th>\n",
       "      <th>color_intensity</th>\n",
       "      <th>hue</th>\n",
       "      <th>od280/od315_of_diluted_wines</th>\n",
       "      <th>proline</th>\n",
       "      <th>target</th>\n",
       "    </tr>\n",
       "  </thead>\n",
       "  <tbody>\n",
       "    <tr>\n",
       "      <th>0</th>\n",
       "      <td>14.23</td>\n",
       "      <td>1.71</td>\n",
       "      <td>2.43</td>\n",
       "      <td>15.6</td>\n",
       "      <td>127.0</td>\n",
       "      <td>2.80</td>\n",
       "      <td>3.06</td>\n",
       "      <td>0.28</td>\n",
       "      <td>2.29</td>\n",
       "      <td>5.64</td>\n",
       "      <td>1.04</td>\n",
       "      <td>3.92</td>\n",
       "      <td>1065.0</td>\n",
       "      <td>0</td>\n",
       "    </tr>\n",
       "    <tr>\n",
       "      <th>1</th>\n",
       "      <td>13.20</td>\n",
       "      <td>1.78</td>\n",
       "      <td>2.14</td>\n",
       "      <td>11.2</td>\n",
       "      <td>100.0</td>\n",
       "      <td>2.65</td>\n",
       "      <td>2.76</td>\n",
       "      <td>0.26</td>\n",
       "      <td>1.28</td>\n",
       "      <td>4.38</td>\n",
       "      <td>1.05</td>\n",
       "      <td>3.40</td>\n",
       "      <td>1050.0</td>\n",
       "      <td>0</td>\n",
       "    </tr>\n",
       "    <tr>\n",
       "      <th>2</th>\n",
       "      <td>13.16</td>\n",
       "      <td>2.36</td>\n",
       "      <td>2.67</td>\n",
       "      <td>18.6</td>\n",
       "      <td>101.0</td>\n",
       "      <td>2.80</td>\n",
       "      <td>3.24</td>\n",
       "      <td>0.30</td>\n",
       "      <td>2.81</td>\n",
       "      <td>5.68</td>\n",
       "      <td>1.03</td>\n",
       "      <td>3.17</td>\n",
       "      <td>1185.0</td>\n",
       "      <td>0</td>\n",
       "    </tr>\n",
       "    <tr>\n",
       "      <th>3</th>\n",
       "      <td>14.37</td>\n",
       "      <td>1.95</td>\n",
       "      <td>2.50</td>\n",
       "      <td>16.8</td>\n",
       "      <td>113.0</td>\n",
       "      <td>3.85</td>\n",
       "      <td>3.49</td>\n",
       "      <td>0.24</td>\n",
       "      <td>2.18</td>\n",
       "      <td>7.80</td>\n",
       "      <td>0.86</td>\n",
       "      <td>3.45</td>\n",
       "      <td>1480.0</td>\n",
       "      <td>0</td>\n",
       "    </tr>\n",
       "    <tr>\n",
       "      <th>4</th>\n",
       "      <td>13.24</td>\n",
       "      <td>2.59</td>\n",
       "      <td>2.87</td>\n",
       "      <td>21.0</td>\n",
       "      <td>118.0</td>\n",
       "      <td>2.80</td>\n",
       "      <td>2.69</td>\n",
       "      <td>0.39</td>\n",
       "      <td>1.82</td>\n",
       "      <td>4.32</td>\n",
       "      <td>1.04</td>\n",
       "      <td>2.93</td>\n",
       "      <td>735.0</td>\n",
       "      <td>0</td>\n",
       "    </tr>\n",
       "  </tbody>\n",
       "</table>\n",
       "</div>"
      ],
      "text/plain": [
       "   alcohol  malic_acid   ash  alcalinity_of_ash  magnesium  total_phenols  \\\n",
       "0    14.23        1.71  2.43               15.6      127.0           2.80   \n",
       "1    13.20        1.78  2.14               11.2      100.0           2.65   \n",
       "2    13.16        2.36  2.67               18.6      101.0           2.80   \n",
       "3    14.37        1.95  2.50               16.8      113.0           3.85   \n",
       "4    13.24        2.59  2.87               21.0      118.0           2.80   \n",
       "\n",
       "   flavanoids  nonflavanoid_phenols  proanthocyanins  color_intensity   hue  \\\n",
       "0        3.06                  0.28             2.29             5.64  1.04   \n",
       "1        2.76                  0.26             1.28             4.38  1.05   \n",
       "2        3.24                  0.30             2.81             5.68  1.03   \n",
       "3        3.49                  0.24             2.18             7.80  0.86   \n",
       "4        2.69                  0.39             1.82             4.32  1.04   \n",
       "\n",
       "   od280/od315_of_diluted_wines  proline  target  \n",
       "0                          3.92   1065.0       0  \n",
       "1                          3.40   1050.0       0  \n",
       "2                          3.17   1185.0       0  \n",
       "3                          3.45   1480.0       0  \n",
       "4                          2.93    735.0       0  "
      ]
     },
     "execution_count": 3,
     "metadata": {},
     "output_type": "execute_result"
    }
   ],
   "source": [
    "wine_df.head()"
   ]
  },
  {
   "cell_type": "code",
   "execution_count": 4,
   "id": "2535d438",
   "metadata": {},
   "outputs": [
    {
     "data": {
      "text/plain": [
       "(178, 14)"
      ]
     },
     "execution_count": 4,
     "metadata": {},
     "output_type": "execute_result"
    }
   ],
   "source": [
    "wine_df.shape"
   ]
  },
  {
   "cell_type": "markdown",
   "id": "270be286",
   "metadata": {},
   "source": [
    "### 문제 1-1. Code 작성하고, wine 데이터 특징 파악"
   ]
  },
  {
   "cell_type": "code",
   "execution_count": 5,
   "id": "f82a4acd",
   "metadata": {},
   "outputs": [
    {
     "data": {
      "text/plain": [
       "alcohol                         0\n",
       "malic_acid                      0\n",
       "ash                             0\n",
       "alcalinity_of_ash               0\n",
       "magnesium                       0\n",
       "total_phenols                   0\n",
       "flavanoids                      0\n",
       "nonflavanoid_phenols            0\n",
       "proanthocyanins                 0\n",
       "color_intensity                 0\n",
       "hue                             0\n",
       "od280/od315_of_diluted_wines    0\n",
       "proline                         0\n",
       "target                          0\n",
       "dtype: int64"
      ]
     },
     "execution_count": 5,
     "metadata": {},
     "output_type": "execute_result"
    }
   ],
   "source": [
    "# 결측치 확인\n",
    "\n",
    "wine_df.isnull().sum()"
   ]
  },
  {
   "cell_type": "code",
   "execution_count": 6,
   "id": "a0be1a9e",
   "metadata": {},
   "outputs": [
    {
     "data": {
      "text/plain": [
       "1    71\n",
       "0    59\n",
       "2    48\n",
       "Name: target, dtype: int64"
      ]
     },
     "execution_count": 6,
     "metadata": {},
     "output_type": "execute_result"
    }
   ],
   "source": [
    "# target 분포 확인\n",
    "\n",
    "wine_df['target'].value_counts()"
   ]
  },
  {
   "cell_type": "markdown",
   "id": "19f6d9c4",
   "metadata": {},
   "source": [
    "## 문제 2. K-means 클러스터링 문제"
   ]
  },
  {
   "cell_type": "markdown",
   "id": "6d2415a9",
   "metadata": {},
   "source": [
    "### 문제2-1. PCA를 통해서 wine의 feature(13개)를 2차원으로 줄이시오. (차원 축소)\n",
    "입력되지 않은 code를 채워주세요."
   ]
  },
  {
   "cell_type": "code",
   "execution_count": 7,
   "id": "cb1d1949",
   "metadata": {},
   "outputs": [
    {
     "data": {
      "text/html": [
       "<div>\n",
       "<style scoped>\n",
       "    .dataframe tbody tr th:only-of-type {\n",
       "        vertical-align: middle;\n",
       "    }\n",
       "\n",
       "    .dataframe tbody tr th {\n",
       "        vertical-align: top;\n",
       "    }\n",
       "\n",
       "    .dataframe thead th {\n",
       "        text-align: right;\n",
       "    }\n",
       "</style>\n",
       "<table border=\"1\" class=\"dataframe\">\n",
       "  <thead>\n",
       "    <tr style=\"text-align: right;\">\n",
       "      <th></th>\n",
       "      <th>pca_x</th>\n",
       "      <th>pca_y</th>\n",
       "    </tr>\n",
       "  </thead>\n",
       "  <tbody>\n",
       "    <tr>\n",
       "      <th>0</th>\n",
       "      <td>318.562979</td>\n",
       "      <td>21.492131</td>\n",
       "    </tr>\n",
       "    <tr>\n",
       "      <th>1</th>\n",
       "      <td>303.097420</td>\n",
       "      <td>-5.364718</td>\n",
       "    </tr>\n",
       "    <tr>\n",
       "      <th>2</th>\n",
       "      <td>438.061133</td>\n",
       "      <td>-6.537309</td>\n",
       "    </tr>\n",
       "    <tr>\n",
       "      <th>3</th>\n",
       "      <td>733.240139</td>\n",
       "      <td>0.192729</td>\n",
       "    </tr>\n",
       "    <tr>\n",
       "      <th>4</th>\n",
       "      <td>-11.571428</td>\n",
       "      <td>18.489995</td>\n",
       "    </tr>\n",
       "    <tr>\n",
       "      <th>...</th>\n",
       "      <td>...</td>\n",
       "      <td>...</td>\n",
       "    </tr>\n",
       "    <tr>\n",
       "      <th>173</th>\n",
       "      <td>-6.980211</td>\n",
       "      <td>-4.541137</td>\n",
       "    </tr>\n",
       "    <tr>\n",
       "      <th>174</th>\n",
       "      <td>3.131605</td>\n",
       "      <td>2.335191</td>\n",
       "    </tr>\n",
       "    <tr>\n",
       "      <th>175</th>\n",
       "      <td>88.458074</td>\n",
       "      <td>18.776285</td>\n",
       "    </tr>\n",
       "    <tr>\n",
       "      <th>176</th>\n",
       "      <td>93.456242</td>\n",
       "      <td>18.670819</td>\n",
       "    </tr>\n",
       "    <tr>\n",
       "      <th>177</th>\n",
       "      <td>-186.943190</td>\n",
       "      <td>-0.213331</td>\n",
       "    </tr>\n",
       "  </tbody>\n",
       "</table>\n",
       "<p>178 rows × 2 columns</p>\n",
       "</div>"
      ],
      "text/plain": [
       "          pca_x      pca_y\n",
       "0    318.562979  21.492131\n",
       "1    303.097420  -5.364718\n",
       "2    438.061133  -6.537309\n",
       "3    733.240139   0.192729\n",
       "4    -11.571428  18.489995\n",
       "..          ...        ...\n",
       "173   -6.980211  -4.541137\n",
       "174    3.131605   2.335191\n",
       "175   88.458074  18.776285\n",
       "176   93.456242  18.670819\n",
       "177 -186.943190  -0.213331\n",
       "\n",
       "[178 rows x 2 columns]"
      ]
     },
     "execution_count": 7,
     "metadata": {},
     "output_type": "execute_result"
    }
   ],
   "source": [
    "from sklearn.decomposition import PCA\n",
    "\n",
    "X = wine_df.iloc[:,:-1]\n",
    "y = wine_df.iloc[:,-1]\n",
    "\n",
    "# feature를 2차원으로 차원 축소\n",
    "pca = PCA(n_components=2)\n",
    "pca_tr = pca.fit_transform(X)\n",
    "\n",
    "df = pd.DataFrame()\n",
    "df['pca_x'] = pca_tr[:, 0] \n",
    "df['pca_y'] = pca_tr[:, 1]\n",
    "df"
   ]
  },
  {
   "cell_type": "markdown",
   "id": "98217a7e",
   "metadata": {},
   "source": [
    "### 문제 2-2. 다음은 k-means 클러스터링에서 적합한 k를 찾기 위해 inertia값을 시각화하는 함수이다.\n",
    "다음 함수 코드에 비워진 부분을 채우고, 물음에 답하시오."
   ]
  },
  {
   "cell_type": "code",
   "execution_count": 8,
   "id": "e4764cdd",
   "metadata": {},
   "outputs": [],
   "source": [
    "# k 결정을 위한 k값에 따른 inertia값을 시각화하는 함수\n",
    "\n",
    "def draw_inertia(data):\n",
    "    inertia = []\n",
    "    \n",
    "    for n in range(1 , 11):\n",
    "        kmeans = KMeans(n_clusters = n, random_state= 0,\n",
    "                       init='k-means++', n_init = 15 ,\n",
    "                     max_iter=300)\n",
    "        kmeans.fit(X)\n",
    "        inertia.append(kmeans.inertia_)\n",
    "    plt.figure(1 , figsize = (15 ,6))\n",
    "    plt.plot(np.arange(1 , 11) , inertia , 'o')\n",
    "    plt.plot(np.arange(1 , 11) , inertia , '-' , alpha = 0.5)\n",
    "    plt.xlabel('Number of Clusters') , plt.ylabel('Inertia')\n",
    "    plt.show()"
   ]
  },
  {
   "cell_type": "code",
   "execution_count": 9,
   "id": "de2acf3d",
   "metadata": {},
   "outputs": [
    {
     "data": {
      "image/png": "[encoded data removed]",
      "text/plain": [
       "<Figure size 1080x432 with 1 Axes>"
      ]
     },
     "metadata": {
      "needs_background": "light"
     },
     "output_type": "display_data"
    }
   ],
   "source": [
    "draw_inertia(X)"
   ]
  },
  {
   "cell_type": "markdown",
   "id": "31453cec",
   "metadata": {},
   "source": [
    "#### 위 시각화 결과를 고려했을 때, k를 얼마로 설정하는 것이 좋을까요?"
   ]
  },
  {
   "cell_type": "markdown",
   "id": "43d861cd",
   "metadata": {},
   "source": [
    "3"
   ]
  },
  {
   "cell_type": "markdown",
   "id": "c0849c3a",
   "metadata": {},
   "source": [
    "### 문제 2-3. 위에서 결정한 k를 바탕으로 K-means 클러스터링을 시도하고, 이를 시각화하시오."
   ]
  },
  {
   "cell_type": "code",
   "execution_count": 10,
   "id": "71d8c2fe",
   "metadata": {},
   "outputs": [
    {
     "data": {
      "image/png": "[encoded data removed]",
      "text/plain": [
       "<Figure size 432x288 with 1 Axes>"
      ]
     },
     "metadata": {
      "needs_background": "light"
     },
     "output_type": "display_data"
    }
   ],
   "source": [
    "kmeans = KMeans(n_clusters = 3 ,init='k-means++', n_init = 15 ,max_iter=300, \n",
    "                 random_state=0 )\n",
    "kmeans.fit(X)\n",
    "labels = kmeans.fit_predict(X)\n",
    "df['km_labels'] = labels\n",
    "\n",
    "centroids = kmeans.cluster_centers_\n",
    "unique_labels = np.unique(labels)\n",
    "markers = ['o', 's', '^', 'P', 'D', 'H', 'x']\n",
    "\n",
    "for label in unique_labels:\n",
    "    cluster = df[df['km_labels']==label]    \n",
    "    plt.scatter(x='pca_x', y='pca_y', data=cluster, marker=markers[label])\n",
    "    \n",
    "plt.scatter(x = centroids[: , 0] , y =  centroids[: , 1] , s = 300 , c = 'red' , alpha = 0.5)\n",
    "plt.ylabel('pca_y')\n",
    "plt.xlabel('pca_x')\n",
    "plt.show()"
   ]
  },
  {
   "cell_type": "markdown",
   "id": "a6c26be5",
   "metadata": {},
   "source": [
    "### 문제 2-4. 다음은 k-means 클러스터링 결과를 평가하기 위해 실루엣 계수를 시각화한 코드이다."
   ]
  },
  {
   "cell_type": "code",
   "execution_count": 11,
   "id": "ee38e91a",
   "metadata": {},
   "outputs": [
    {
     "data": {
      "image/png": "[encoded data removed]",
      "text/plain": [
       "<Figure size 432x288 with 1 Axes>"
      ]
     },
     "metadata": {
      "needs_background": "light"
     },
     "output_type": "display_data"
    }
   ],
   "source": [
    "from sklearn.metrics import silhouette_samples\n",
    "from matplotlib import cm\n",
    "\n",
    "# 실루엣 계수로 잘 군집화되었는지 확인\n",
    "pred_plus = kmeans.fit_predict(X)\n",
    "cluster_labels = np.unique(pred_plus)\n",
    "n_clusters = cluster_labels.shape[0]\n",
    "silhouette_vals = silhouette_samples(X, pred_plus, metric='euclidean')\n",
    "\n",
    "y_ax_lower, y_ax_upper =0,0\n",
    "yticks=[]\n",
    "\n",
    "for i, c in enumerate(cluster_labels):\n",
    "    c_silhouette_vals = silhouette_vals[pred_plus==c]\n",
    "    c_silhouette_vals.sort()\n",
    "    y_ax_upper += len(c_silhouette_vals)\n",
    "    color = cm.jet(float(i) / n_clusters)\n",
    "    \n",
    "    plt.barh(range(y_ax_lower, y_ax_upper),\n",
    "            c_silhouette_vals,\n",
    "             height=1, edgecolor='none',\n",
    "             color=color)\n",
    "    yticks.append((y_ax_upper + y_ax_lower)/2)\n",
    "    y_ax_lower += len(c_silhouette_vals)\n",
    "    \n",
    "silhouette_avg = np.mean(c_silhouette_vals)\n",
    "plt.axvline(silhouette_avg, color = 'red', linestyle='--')\n",
    "plt.yticks(yticks, cluster_labels + 1)\n",
    "plt.ylabel('Cluster')\n",
    "plt.xlabel('Silhouette Coefficient')\n",
    "plt.tight_layout()\n",
    "plt.show()"
   ]
  },
  {
   "cell_type": "markdown",
   "id": "bb7686c3",
   "metadata": {},
   "source": [
    "#### 실루엣 계수 시각화 결과를 보았을 때, 클러스터링이 잘 진행된 것으로 보이나요? 그렇게 생각한 이유와 함께 적어주세요."
   ]
  },
  {
   "cell_type": "markdown",
   "id": "5634d401",
   "metadata": {},
   "source": [
    "네. 실루엣 계수가 0.6을 넘었으며, 각 데이터가 어느 한 쪽의 클러스터의 집중 분포하는 것이 아니라, 거의 균등하게 분포하고 있기 때문이다."
   ]
  },
  {
   "cell_type": "markdown",
   "id": "9e2362d4",
   "metadata": {},
   "source": [
    "## 문제 3. 계층적 군집화 문제"
   ]
  },
  {
   "cell_type": "markdown",
   "id": "a9158f10",
   "metadata": {},
   "source": [
    "### 문제 3-1. 이번에는 wine_df에서 3개의 feature만 선택 해, 계층적 군집화 통해 분류해보려고 한다. "
   ]
  },
  {
   "cell_type": "code",
   "execution_count": 12,
   "id": "36437765",
   "metadata": {},
   "outputs": [
    {
     "data": {
      "image/png": "[encoded data removed]",
      "text/plain": [
       "<Figure size 432x288 with 1 Axes>"
      ]
     },
     "metadata": {
      "needs_background": "light"
     },
     "output_type": "display_data"
    }
   ],
   "source": [
    "#3개의 feature 선택\n",
    "\n",
    "from sklearn.ensemble import RandomForestClassifier\n",
    "\n",
    "X_train = wine_df.iloc[:,:-1]\n",
    "y_train = wine_df.iloc[:,-1]\n",
    "\n",
    "rf = RandomForestClassifier()\n",
    "\n",
    "rf.fit(X_train, y_train)\n",
    "sorted_i = rf.feature_importances_.argsort()\n",
    "sns.barplot(x=rf.feature_importances_[sorted_i], y=wine_df.columns[sorted_i])\n",
    "plt.show()"
   ]
  },
  {
   "cell_type": "markdown",
   "id": "857e8150",
   "metadata": {},
   "source": [
    "### 문제 3-2. 3개의 feture 선택해 Code 작성하시오"
   ]
  },
  {
   "cell_type": "code",
   "execution_count": 13,
   "id": "4abc987e",
   "metadata": {},
   "outputs": [
    {
     "data": {
      "text/html": [
       "<div>\n",
       "<style scoped>\n",
       "    .dataframe tbody tr th:only-of-type {\n",
       "        vertical-align: middle;\n",
       "    }\n",
       "\n",
       "    .dataframe tbody tr th {\n",
       "        vertical-align: top;\n",
       "    }\n",
       "\n",
       "    .dataframe thead th {\n",
       "        text-align: right;\n",
       "    }\n",
       "</style>\n",
       "<table border=\"1\" class=\"dataframe\">\n",
       "  <thead>\n",
       "    <tr style=\"text-align: right;\">\n",
       "      <th></th>\n",
       "      <th>proline</th>\n",
       "      <th>flavanoids</th>\n",
       "      <th>color_intensity</th>\n",
       "    </tr>\n",
       "  </thead>\n",
       "  <tbody>\n",
       "    <tr>\n",
       "      <th>0</th>\n",
       "      <td>1065.0</td>\n",
       "      <td>3.06</td>\n",
       "      <td>5.64</td>\n",
       "    </tr>\n",
       "    <tr>\n",
       "      <th>1</th>\n",
       "      <td>1050.0</td>\n",
       "      <td>2.76</td>\n",
       "      <td>4.38</td>\n",
       "    </tr>\n",
       "    <tr>\n",
       "      <th>2</th>\n",
       "      <td>1185.0</td>\n",
       "      <td>3.24</td>\n",
       "      <td>5.68</td>\n",
       "    </tr>\n",
       "    <tr>\n",
       "      <th>3</th>\n",
       "      <td>1480.0</td>\n",
       "      <td>3.49</td>\n",
       "      <td>7.80</td>\n",
       "    </tr>\n",
       "    <tr>\n",
       "      <th>4</th>\n",
       "      <td>735.0</td>\n",
       "      <td>2.69</td>\n",
       "      <td>4.32</td>\n",
       "    </tr>\n",
       "  </tbody>\n",
       "</table>\n",
       "</div>"
      ],
      "text/plain": [
       "   proline  flavanoids  color_intensity\n",
       "0   1065.0        3.06             5.64\n",
       "1   1050.0        2.76             4.38\n",
       "2   1185.0        3.24             5.68\n",
       "3   1480.0        3.49             7.80\n",
       "4    735.0        2.69             4.32"
      ]
     },
     "execution_count": 13,
     "metadata": {},
     "output_type": "execute_result"
    }
   ],
   "source": [
    "#Code 작성\n",
    "#3개 feature 선택 \n",
    "\n",
    "sel_data = wine_df[['proline', 'flavanoids','color_intensity']]\n",
    "sel_data.head()"
   ]
  },
  {
   "cell_type": "markdown",
   "id": "31bc4974",
   "metadata": {},
   "source": [
    "### 문제 3-3. 다음 코드를 작성하시오"
   ]
  },
  {
   "cell_type": "code",
   "execution_count": 14,
   "id": "edab7006",
   "metadata": {},
   "outputs": [
    {
     "name": "stdout",
     "output_type": "stream",
     "text": [
      "[[ 1.01300893e+00  1.03481896e+00  2.51716850e-01]\n",
      " [ 9.65241521e-01  7.33628941e-01 -2.93321329e-01]\n",
      " [ 1.39514818e+00  1.21553297e+00  2.69019649e-01]\n",
      " [ 2.33457383e+00  1.46652465e+00  1.18606801e+00]\n",
      " [-3.78740070e-02  6.63351271e-01 -3.19275528e-01]\n",
      " [ 2.23903902e+00  1.36612798e+00  7.31869531e-01]\n",
      " [ 1.72952002e+00  4.92676928e-01  8.30145565e-02]\n",
      " [ 1.74544249e+00  4.82637261e-01 -3.49944013e-03]\n",
      " [ 9.49319052e-01  9.54501620e-01  6.13860573e-02]\n",
      " [ 9.49319052e-01  1.12517596e+00  9.35177423e-01]\n",
      " [ 2.43010864e+00  1.29585031e+00  2.99299548e-01]\n",
      " [ 1.69767508e+00  4.02319923e-01 -2.51279393e-02]\n",
      " [ 1.82505483e+00  7.33628941e-01  2.34414051e-01]\n",
      " [ 1.28369089e+00  1.66731799e+00  1.47900054e-01]\n",
      " [ 2.54793491e+00  1.61711966e+00  1.05629702e+00]\n",
      " [ 1.79320989e+00  8.84223950e-01  9.69783022e-01]\n",
      " [ 1.69767508e+00  1.11513630e+00  4.93956040e-01]\n",
      " [ 1.22000102e+00  1.37616764e+00  6.66984033e-01]\n",
      " [ 2.97147258e+00  1.90827001e+00  1.57538100e+00]\n",
      " [ 3.12420304e-01  1.00469996e+00  1.81290590e-02]\n",
      " [ 1.05428211e-01  1.14525530e+00  2.56042550e-01]\n",
      " [ 7.35832739e-02  3.82240589e-01 -2.41412931e-01]\n",
      " [ 9.17474115e-01  8.54104948e-01 -5.44211919e-01]\n",
      " [ 8.53784240e-01  3.42081920e-01 -4.87977821e-01]\n",
      " [ 3.12420304e-01  5.83033933e-01 -6.65331514e-01]\n",
      " [ 2.64652898e-01  6.53311604e-01 -6.39377315e-01]\n",
      " [ 1.42699311e+00  9.14342951e-01 -1.11641936e-01]\n",
      " [ 1.71359755e+00  1.61367910e-01 -4.79326421e-01]\n",
      " [ 5.35334866e-01  9.44461953e-01 -2.41412931e-01]\n",
      " [ 9.17474115e-01  3.01923251e-01 -1.54898934e-01]\n",
      " [ 1.71359755e+00  1.22557264e+00  2.77671049e-01]\n",
      " [ 2.44603111e+00  1.16533463e+00  7.96755028e-01]\n",
      " [ 7.74171896e-01  6.63351271e-01 -5.26909120e-01]\n",
      " [ 1.55437286e+00  7.13549607e-01  1.47900054e-01]\n",
      " [ 1.10854374e+00  5.02716595e-01 -3.71183926e-01]\n",
      " [ 5.51257335e-01  9.54501620e-01  1.81290590e-02]\n",
      " [ 4.23877585e-01  6.53311604e-01 -1.98155932e-01]\n",
      " [ 1.14038868e+00  4.02319923e-01 -3.49555426e-01]\n",
      " [ 8.69706709e-01  6.13152935e-01 -5.87468917e-01]\n",
      " [ 4.17383365e-02  1.01473962e+00  1.81290590e-02]\n",
      " [ 1.53195617e-01  1.26573130e+00  4.63676141e-01]\n",
      " [ 9.17474115e-01  6.53311604e-01 -3.36578327e-01]\n",
      " [ 1.10854374e+00  1.53680232e+00  1.60877153e-01]\n",
      " [-2.13021163e-01  6.03113268e-01 -3.01972728e-01]\n",
      " [ 4.39800054e-01  9.74580955e-01 -7.82513996e-03]\n",
      " [ 1.06077633e+00  6.23192602e-01  7.86888566e-02]\n",
      " [ 1.01300893e+00  1.14525530e+00 -6.83849376e-02]\n",
      " [ 7.58249428e-01  1.36612798e+00  4.50699042e-01]\n",
      " [ 9.97086458e-01  8.94263617e-01  4.93956040e-01]\n",
      " [ 1.63398521e+00  1.51672298e+00  1.66189499e+00]\n",
      " [ 1.28369089e+00  1.24565197e+00  9.26526023e-01]\n",
      " [ 1.64990767e+00  9.64541288e-01  2.34414051e-01]\n",
      " [ 1.41107064e+00  1.71751633e+00  8.61640526e-01]\n",
      " [ 2.00020199e+00  7.63747943e-01  5.37213039e-01]\n",
      " [ 9.97086458e-01  8.74184283e-01  3.42556546e-01]\n",
      " [ 1.18815608e+00  7.53708276e-01  5.15584539e-01]\n",
      " [ 7.10482022e-01  9.74580955e-01  5.71818637e-01]\n",
      " [ 1.66583014e+00  1.20549330e+00  4.07442044e-01]\n",
      " [ 1.71359755e+00  1.64723866e+00  7.53498030e-01]\n",
      " [-7.22540161e-01 -1.46505818e+00 -1.34446639e+00]\n",
      " [-2.13021163e-01 -9.42995485e-01 -7.73474010e-01]\n",
      " [-9.45454722e-01 -6.21726134e-01  2.99299548e-01]\n",
      " [-3.72245850e-01 -2.40218779e-01 -5.44211919e-01]\n",
      " [-1.04098953e+00  1.07497763e+00 -2.63041430e-01]\n",
      " [-1.24798163e+00 -2.80377448e-01 -9.11896404e-01]\n",
      " [-2.19390150e-01  6.23192602e-01 -1.98155932e-01]\n",
      " [-7.79861048e-01  1.15529496e+00  1.04643056e-01]\n",
      " [-7.54385098e-01 -2.93857675e-02 -1.63550334e-01]\n",
      " [ 9.89339909e-03 -7.32162473e-01 -8.16731008e-01]\n",
      " [-9.20104005e-02 -7.52241808e-01 -9.55153403e-01]\n",
      " [ 3.92032648e-01 -1.01327316e+00 -8.68639406e-01]\n",
      " [-1.07283447e+00  8.34025614e-01 -7.25891312e-01]\n",
      " [-8.75395860e-01 -1.90020443e-01 -5.70166118e-01]\n",
      " [ 7.58249428e-01  8.64144615e-01 -7.38868411e-01]\n",
      " [ 4.42984548e-01  1.11169574e-01 -7.99428209e-01]\n",
      " [-1.01551358e+00 -4.61091458e-01 -5.44211919e-01]\n",
      " [-1.13015536e+00  7.33234123e-04 -1.98155932e-01]\n",
      " [-7.86230036e-01 -7.12083139e-01 -1.04166740e+00]\n",
      " [ 9.89339909e-03 -1.79980776e-01 -7.17239912e-01]\n",
      " [-9.04056304e-01  5.22795930e-01 -1.07627300e+00]\n",
      " [-1.49318765e+00  2.31645580e-01 -1.10655290e+00]\n",
      " [-1.04748376e-01  5.02716595e-01 -5.00954921e-01]\n",
      " [-3.72245850e-01 -4.51051791e-01 -1.23632389e+00]\n",
      " [-7.38462629e-01 -4.41012124e-01 -1.11641936e-01]\n",
      " [-7.22540161e-01  1.81447244e-01 -8.68639406e-01]\n",
      " [-9.45454722e-01 -8.96237709e-02 -1.05464450e+00]\n",
      " [-8.02152504e-01 -3.40615451e-01 -1.12818140e+00]\n",
      " [-5.88791424e-01 -4.20932789e-01 -1.06329590e+00]\n",
      " [-2.13021163e-01 -3.40615451e-01 -9.76781902e-01]\n",
      " [-3.88168318e-01 -4.41012124e-01 -1.43530608e+00]\n",
      " [-8.49919910e-01 -5.31369129e-01 -1.14980989e+00]\n",
      " [-9.45454722e-01 -7.82360809e-01 -6.30725915e-01]\n",
      " [-8.02152504e-01 -5.71527798e-01 -8.68639406e-01]\n",
      " [-1.45497372e+00  2.21605913e-01 -1.25795239e+00]\n",
      " [-1.27982657e+00  2.31645580e-01 -7.82125409e-01]\n",
      " [ 6.05393728e-01  2.41685247e-01 -1.06329590e+00]\n",
      " [-3.88168318e-01 -1.04339216e+00 -1.10655290e+00]\n",
      " [-1.01551358e+00  4.72597594e-01 -9.33524903e-01]\n",
      " [-2.76711037e-01  1.72755600e+00 -2.41412931e-01]\n",
      " [-1.08557245e+00  9.64541288e-01 -1.19306689e+00]\n",
      " [-1.17486350e-01  1.41288575e-01 -7.60496910e-01]\n",
      " [-5.88791424e-01 -6.71924470e-01 -1.12818140e+00]\n",
      " [-9.83668647e-01  8.10505719e-02 -9.76781902e-01]\n",
      " [-1.05691200e+00 -3.90813788e-01 -1.29688369e+00]\n",
      " [-2.38497113e-01 -1.09703105e-01 -9.16222104e-01]\n",
      " [-1.37536138e+00 -1.90020443e-01 -1.02003890e+00]\n",
      " [-7.54385098e-01  7.33234123e-04 -7.17239912e-01]\n",
      " [-8.24443960e-01 -2.70337781e-01 -7.60496910e-01]\n",
      " [-1.38491486e+00  1.07729013e-02 -1.02003890e+00]\n",
      " [-2.13021163e-01  8.94263617e-01 -1.04166740e+00]\n",
      " [-5.88791424e-01  5.52914931e-01 -9.33524903e-01]\n",
      " [-1.34351644e+00  2.41685247e-01 -1.32283789e+00]\n",
      " [-4.45489206e-01  7.33234123e-04 -5.44211919e-01]\n",
      " [-9.96406622e-01 -1.93461003e-02 -8.55662307e-01]\n",
      " [-1.15244682e+00  2.61764582e-01 -9.33524903e-01]\n",
      " [-1.08238795e+00  1.41288575e-01 -1.36609489e+00]\n",
      " [-8.02152504e-01 -4.30972456e-01 -1.34446639e+00]\n",
      " [-1.27982657e+00  6.09712375e-02 -1.29688369e+00]\n",
      " [-1.19384523e+00 -7.82360809e-01 -7.17239912e-01]\n",
      " [-5.82422436e-01 -3.90813788e-01 -1.63428828e+00]\n",
      " [-3.88168318e-01  7.63747943e-01 -7.82125409e-01]\n",
      " [-8.97687316e-01  3.06283174e+00  4.07442044e-01]\n",
      " [-1.21613669e+00  1.01129906e-01 -1.28823229e+00]\n",
      " [-1.16836928e+00  6.23192602e-01 -1.06329590e+00]\n",
      " [-1.16836928e+00  1.00469996e+00 -9.76781902e-01]\n",
      " [-1.17473827e+00  6.23192602e-01 -9.94084701e-01]\n",
      " [-1.25753511e+00  1.12517596e+00 -4.83652121e-01]\n",
      " [-8.94502823e-01  2.11566246e-01 -8.90267905e-01]\n",
      " [-1.28938005e+00  4.22399258e-01 -1.27092949e+00]\n",
      " [-5.31470536e-01 -2.80377448e-01 -1.06329590e+00]\n",
      " [-3.72245850e-01 -7.82360809e-01 -4.14440924e-01]\n",
      " [-6.90695223e-01 -8.12479811e-01  1.47900054e-01]\n",
      " [-5.95160411e-01 -9.42995485e-01  2.77671049e-01]\n",
      " [-4.67780662e-01 -8.32559145e-01 -2.51279393e-02]\n",
      " [-3.08555975e-01 -1.45501851e+00  1.69528553e-01]\n",
      " [-1.65253757e-01 -1.37470118e+00  8.83269025e-01]\n",
      " [-8.56414131e-02 -1.56545485e+00 -5.22583420e-01]\n",
      " [-7.38462629e-01 -1.43493918e+00 -2.51279393e-02]\n",
      " [-5.31470536e-01 -1.55541519e+00  2.77671049e-01]\n",
      " [-4.99625599e-01 -1.43493918e+00 -5.97335379e-02]\n",
      " [-4.67780662e-01 -1.53533585e+00 -1.98155932e-01]\n",
      " [ 1.05428211e-01 -1.53533585e+00  2.34414051e-01]\n",
      " [-7.22540161e-01 -1.51525652e+00 -3.06298428e-01]\n",
      " [-6.27005349e-01 -1.23414583e+00 -2.84669929e-01]\n",
      " [ 3.44265242e-01 -1.25422517e+00  1.36342171e+00]\n",
      " [ 2.64652898e-01 -1.48513751e+00 -4.57697922e-01]\n",
      " [-1.05691200e+00 -1.69597053e+00 -6.83849376e-02]\n",
      " [-3.88168318e-01 -1.38474084e+00  1.12118252e+00]\n",
      " [-3.08555975e-01 -1.27430450e+00  1.45426140e+00]\n",
      " [-6.27005349e-01 -6.41805468e-01  1.87817999e+00]\n",
      " [-7.86230036e-01 -4.61091458e-01  1.53212400e+00]\n",
      " [-8.49919910e-01 -6.71924470e-01  2.48377796e+00]\n",
      " [-1.02506707e+00 -7.52241808e-01  8.83269025e-01]\n",
      " [-2.28943631e-01 -1.20402683e+00  2.36265837e+00]\n",
      " [-3.40400912e-01 -1.45501851e+00  1.09955402e+00]\n",
      " [-6.97189444e-02 -1.40482018e+00  1.22932501e+00]\n",
      " [-8.49919910e-01 -1.20402683e+00  1.70947769e+00]\n",
      " [ 4.23877585e-01 -1.45501851e+00  1.05629702e+00]\n",
      " [-2.76711037e-01 -7.22122806e-01  3.43543192e+00]\n",
      " [-4.04090787e-01 -9.32955818e-01  2.89471945e+00]\n",
      " [-7.22540161e-01 -1.11366983e+00  1.12118252e+00]\n",
      " [-2.13021163e-01 -1.47509785e+00  3.55533646e-01]\n",
      " [-5.63315474e-01 -1.43493918e+00  2.25762651e-01]\n",
      " [-2.28943631e-01 -1.33454251e+00  9.59916560e-02]\n",
      " [-4.20013256e-01 -1.35462184e+00  1.95604258e+00]\n",
      " [-7.22540161e-01 -1.56545485e+00  6.75635433e-01]\n",
      " [-1.65253757e-01 -1.11366983e+00  2.43186956e+00]\n",
      " [-1.97098694e-01 -1.37470118e+00  2.25019017e+00]\n",
      " [ 9.89339909e-03 -1.19398717e+00  1.55807820e+00]\n",
      " [-3.72245850e-01 -1.07351116e+00  1.48886700e+00]\n",
      " [-7.54385098e-01 -1.54537552e+00  1.91157052e-01]\n",
      " [-8.81764848e-01 -1.52529618e+00  2.09446454e+00]\n",
      " [-2.76711037e-01 -1.33454251e+00  2.00795098e+00]\n",
      " [-2.19515383e-02 -1.42489951e+00  1.14281101e+00]\n",
      " [ 9.89339909e-03 -1.28434417e+00  9.69783022e-01]\n",
      " [ 2.80575367e-01 -1.34458217e+00  2.22423597e+00]\n",
      " [ 2.96497836e-01 -1.35462184e+00  1.83492299e+00]\n",
      " [-5.95160411e-01 -1.27430450e+00  1.79166599e+00]]\n"
     ]
    }
   ],
   "source": [
    "#Code작성\n",
    "#StandScaler()를 이용해 sel_data를 feture scaling \n",
    "\n",
    "scaler = StandardScaler()\n",
    "scaled_X = scaler.fit_transform(sel_data)\n",
    "print(scaled_X)"
   ]
  },
  {
   "cell_type": "markdown",
   "id": "cc21140e",
   "metadata": {},
   "source": [
    "#### 계층적 군집화에는 다양한 likage method 존재한다. 어떤 method가 좋을지 확인해보자\n",
    "#### (ward, average, single, complete)"
   ]
  },
  {
   "cell_type": "code",
   "execution_count": 15,
   "id": "01c498bc",
   "metadata": {},
   "outputs": [],
   "source": [
    "from sklearn.metrics import adjusted_rand_score\n",
    "# adjusted_rand_score은 예측 및 실제 클러스터링에서 동일하거나 다른 클러스터에 \n",
    "# 할당된 쌍을 계산하여 두 클러스터링 간의 유사성을 계산합니다. \n",
    "\n",
    "clustering_ari = []\n",
    "\n",
    "linkage_settings = ['ward', 'average', 'single', 'complete']\n",
    "for method in linkage_settings:\n",
    "    agg = AgglomerativeClustering(n_clusters=3, linkage=method)\n",
    "    agg.fit(scaled_X)\n",
    "    \n",
    "    assignments_scaled_X = agg.labels_\n",
    "    clustering_ari.append(adjusted_rand_score(y_train, assignments_scaled_X))"
   ]
  },
  {
   "cell_type": "code",
   "execution_count": 16,
   "id": "aeb1adc3",
   "metadata": {},
   "outputs": [
    {
     "data": {
      "text/html": [
       "<div>\n",
       "<style scoped>\n",
       "    .dataframe tbody tr th:only-of-type {\n",
       "        vertical-align: middle;\n",
       "    }\n",
       "\n",
       "    .dataframe tbody tr th {\n",
       "        vertical-align: top;\n",
       "    }\n",
       "\n",
       "    .dataframe thead th {\n",
       "        text-align: right;\n",
       "    }\n",
       "</style>\n",
       "<table border=\"1\" class=\"dataframe\">\n",
       "  <thead>\n",
       "    <tr style=\"text-align: right;\">\n",
       "      <th></th>\n",
       "      <th>likage</th>\n",
       "      <th>score</th>\n",
       "    </tr>\n",
       "  </thead>\n",
       "  <tbody>\n",
       "    <tr>\n",
       "      <th>0</th>\n",
       "      <td>ward</td>\n",
       "      <td>0.661564</td>\n",
       "    </tr>\n",
       "    <tr>\n",
       "      <th>1</th>\n",
       "      <td>average</td>\n",
       "      <td>0.186220</td>\n",
       "    </tr>\n",
       "    <tr>\n",
       "      <th>2</th>\n",
       "      <td>single</td>\n",
       "      <td>-0.001686</td>\n",
       "    </tr>\n",
       "    <tr>\n",
       "      <th>3</th>\n",
       "      <td>complete</td>\n",
       "      <td>0.361885</td>\n",
       "    </tr>\n",
       "  </tbody>\n",
       "</table>\n",
       "</div>"
      ],
      "text/plain": [
       "     likage     score\n",
       "0      ward  0.661564\n",
       "1   average  0.186220\n",
       "2    single -0.001686\n",
       "3  complete  0.361885"
      ]
     },
     "execution_count": 16,
     "metadata": {},
     "output_type": "execute_result"
    }
   ],
   "source": [
    "d = {'likage':linkage_settings, 'score': clustering_ari}\n",
    "pd.DataFrame(d)"
   ]
  },
  {
   "cell_type": "markdown",
   "id": "80bf0306",
   "metadata": {},
   "source": [
    "### 문제 3-4. method를 선택해 clustering 하고 Dendrogram으로 나타내보자"
   ]
  },
  {
   "cell_type": "code",
   "execution_count": 17,
   "id": "44735277",
   "metadata": {},
   "outputs": [
    {
     "data": {
      "text/html": [
       "<div>\n",
       "<style scoped>\n",
       "    .dataframe tbody tr th:only-of-type {\n",
       "        vertical-align: middle;\n",
       "    }\n",
       "\n",
       "    .dataframe tbody tr th {\n",
       "        vertical-align: top;\n",
       "    }\n",
       "\n",
       "    .dataframe thead th {\n",
       "        text-align: right;\n",
       "    }\n",
       "</style>\n",
       "<table border=\"1\" class=\"dataframe\">\n",
       "  <thead>\n",
       "    <tr style=\"text-align: right;\">\n",
       "      <th></th>\n",
       "      <th>proline</th>\n",
       "      <th>flavanoids</th>\n",
       "      <th>color_intensity</th>\n",
       "      <th>target</th>\n",
       "    </tr>\n",
       "  </thead>\n",
       "  <tbody>\n",
       "    <tr>\n",
       "      <th>0</th>\n",
       "      <td>1.013009</td>\n",
       "      <td>1.034819</td>\n",
       "      <td>0.251717</td>\n",
       "      <td>0</td>\n",
       "    </tr>\n",
       "    <tr>\n",
       "      <th>1</th>\n",
       "      <td>0.965242</td>\n",
       "      <td>0.733629</td>\n",
       "      <td>-0.293321</td>\n",
       "      <td>0</td>\n",
       "    </tr>\n",
       "    <tr>\n",
       "      <th>2</th>\n",
       "      <td>1.395148</td>\n",
       "      <td>1.215533</td>\n",
       "      <td>0.269020</td>\n",
       "      <td>0</td>\n",
       "    </tr>\n",
       "    <tr>\n",
       "      <th>3</th>\n",
       "      <td>2.334574</td>\n",
       "      <td>1.466525</td>\n",
       "      <td>1.186068</td>\n",
       "      <td>0</td>\n",
       "    </tr>\n",
       "    <tr>\n",
       "      <th>4</th>\n",
       "      <td>-0.037874</td>\n",
       "      <td>0.663351</td>\n",
       "      <td>-0.319276</td>\n",
       "      <td>0</td>\n",
       "    </tr>\n",
       "  </tbody>\n",
       "</table>\n",
       "</div>"
      ],
      "text/plain": [
       "    proline  flavanoids  color_intensity  target\n",
       "0  1.013009    1.034819         0.251717       0\n",
       "1  0.965242    0.733629        -0.293321       0\n",
       "2  1.395148    1.215533         0.269020       0\n",
       "3  2.334574    1.466525         1.186068       0\n",
       "4 -0.037874    0.663351        -0.319276       0"
      ]
     },
     "execution_count": 17,
     "metadata": {},
     "output_type": "execute_result"
    }
   ],
   "source": [
    "df_X = pd.DataFrame(scaled_X, columns=sel_data.columns)\n",
    "scaled_data = pd.concat([df_X, wine_df['target']], axis = 1)\n",
    "scaled_data.head()"
   ]
  },
  {
   "cell_type": "code",
   "execution_count": 18,
   "id": "508d1c5f",
   "metadata": {},
   "outputs": [
    {
     "data": {
      "text/plain": [
       "(177, 4)"
      ]
     },
     "execution_count": 18,
     "metadata": {},
     "output_type": "execute_result"
    }
   ],
   "source": [
    "#Code 작성\n",
    "#제일 높은 score을 가진 method 선택 , metric='euclidean'\n",
    "\n",
    "clusters = linkage(scaled_data, method='ward', metric='euclidean')\n",
    "clusters.shape"
   ]
  },
  {
   "cell_type": "code",
   "execution_count": 19,
   "id": "4512084b",
   "metadata": {},
   "outputs": [
    {
     "data": {
      "image/png": "[encoded data removed]",
      "text/plain": [
       "<Figure size 1800x720 with 1 Axes>"
      ]
     },
     "metadata": {
      "needs_background": "light"
     },
     "output_type": "display_data"
    }
   ],
   "source": [
    "#Code 작성 \n",
    "#Dendrogram으로 나타내기 \n",
    "\n",
    "plt.figure(figsize=(25,10))\n",
    "dendrogram(clusters, leaf_rotation=90, leaf_font_size=12)\n",
    "plt.show()"
   ]
  },
  {
   "cell_type": "markdown",
   "id": "3ec5e00e",
   "metadata": {},
   "source": [
    "#### 클러스터링 결과를 확인해보자"
   ]
  },
  {
   "cell_type": "code",
   "execution_count": 20,
   "id": "f278dfdd",
   "metadata": {},
   "outputs": [
    {
     "data": {
      "text/html": [
       "<div>\n",
       "<style scoped>\n",
       "    .dataframe tbody tr th:only-of-type {\n",
       "        vertical-align: middle;\n",
       "    }\n",
       "\n",
       "    .dataframe tbody tr th {\n",
       "        vertical-align: top;\n",
       "    }\n",
       "\n",
       "    .dataframe thead th {\n",
       "        text-align: right;\n",
       "    }\n",
       "</style>\n",
       "<table border=\"1\" class=\"dataframe\">\n",
       "  <thead>\n",
       "    <tr style=\"text-align: right;\">\n",
       "      <th>labels</th>\n",
       "      <th>0</th>\n",
       "      <th>1</th>\n",
       "      <th>2</th>\n",
       "    </tr>\n",
       "    <tr>\n",
       "      <th>pred</th>\n",
       "      <th></th>\n",
       "      <th></th>\n",
       "      <th></th>\n",
       "    </tr>\n",
       "  </thead>\n",
       "  <tbody>\n",
       "    <tr>\n",
       "      <th>1</th>\n",
       "      <td>59</td>\n",
       "      <td>5</td>\n",
       "      <td>0</td>\n",
       "    </tr>\n",
       "    <tr>\n",
       "      <th>2</th>\n",
       "      <td>0</td>\n",
       "      <td>66</td>\n",
       "      <td>0</td>\n",
       "    </tr>\n",
       "    <tr>\n",
       "      <th>3</th>\n",
       "      <td>0</td>\n",
       "      <td>0</td>\n",
       "      <td>48</td>\n",
       "    </tr>\n",
       "  </tbody>\n",
       "</table>\n",
       "</div>"
      ],
      "text/plain": [
       "labels   0   1   2\n",
       "pred              \n",
       "1       59   5   0\n",
       "2        0  66   0\n",
       "3        0   0  48"
      ]
     },
     "execution_count": 20,
     "metadata": {},
     "output_type": "execute_result"
    }
   ],
   "source": [
    "from scipy.cluster.hierarchy import fcluster\n",
    "\n",
    "cut_tree = fcluster(clusters, t=15, criterion='distance')\n",
    "cut_tree\n",
    "labels = scaled_data['target']\n",
    "\n",
    "df = pd.DataFrame({'pred':cut_tree, 'labels':labels})\n",
    "con_mat = pd.crosstab(df['pred'], df['labels'])\n",
    "con_mat"
   ]
  },
  {
   "cell_type": "markdown",
   "id": "ada716c9",
   "metadata": {},
   "source": [
    "### 문제 3-5. 위의 코드를 통해 나온 결과를 서술하시오. (어떻게 나왔는지 간단하게 써주시면 됩니다.)"
   ]
  },
  {
   "cell_type": "markdown",
   "id": "716824ee",
   "metadata": {},
   "source": [
    "label 0인 데이터와 label 2인 데이터는 각각 59개 48개로 잘 분류 되었고, label 1인 데이터는 66개는 정확하게 분류되고 5개는 label이 0인 데이터로 분류 되었다. "
   ]
  },
  {
   "cell_type": "markdown",
   "id": "a29739c0",
   "metadata": {},
   "source": [
    "#### 시각화를 통해 클러스터링 결과를 확인해보자 "
   ]
  },
  {
   "cell_type": "code",
   "execution_count": 21,
   "id": "02507a24",
   "metadata": {},
   "outputs": [
    {
     "data": {
      "text/plain": [
       "Text(0.5, 0, '3rd feature')"
      ]
     },
     "execution_count": 21,
     "metadata": {},
     "output_type": "execute_result"
    },
    {
     "data": {
      "image/png": "[encoded data removed]",
      "text/plain": [
       "<Figure size 576x432 with 1 Axes>"
      ]
     },
     "metadata": {
      "needs_background": "light"
     },
     "output_type": "display_data"
    }
   ],
   "source": [
    "scaled_data['cluster'] = cut_tree\n",
    "\n",
    "from mpl_toolkits.mplot3d import Axes3D\n",
    "\n",
    "fig = plt.figure(1, figsize=(8,6))\n",
    "ax = Axes3D(fig, elev=-150, azim=110)\n",
    "ax.scatter(scaled_data.iloc[:,0],\n",
    "          scaled_data.iloc[:,1],\n",
    "          scaled_data.iloc[:,2],\n",
    "          c = scaled_data['cluster'],\n",
    "          edgecolor='k')\n",
    "\n",
    "ax.set_title('cluster visualization')\n",
    "ax.set_xlabel('1st feature')\n",
    "ax.set_ylabel('2nd feature')\n",
    "ax.set_zlabel('3rd feature')"
   ]
  },
  {
   "cell_type": "markdown",
   "id": "74867304",
   "metadata": {},
   "source": [
    "### 문제 3-6. 계층적 군집화의 단점을 시간복잡도 측면에서 설명하시오."
   ]
  },
  {
   "cell_type": "markdown",
   "id": "d5b9b439",
   "metadata": {},
   "source": [
    "클러스터링을 진행할 집합의 원소의 개수를 n이라고 한다면, \n",
    "클러스터를 합칠 때 마다 두 클러스터 사이의 거리를 모두 계산하기 때문에 O(n^2)의 시간이 소요된다. \n",
    "그리고 클러스터를 합치는 횟수가 n-1번이기 때문에 시간복잡도는 O(n^3)이 된다. \n",
    "이는 비교적 매우 오래걸리는 비효율적인 방법이다. n의 크기가 커지면 속도가 매우 느려져 사용하기 힘든 기법이다. \n"
   ]
  },
  {
   "cell_type": "markdown",
   "id": "7e1d963b",
   "metadata": {},
   "source": [
    "### 문제 4. K-means, 계층적 군집화 외의 다른 클러스터링 방법을 1가지 이상 서술하고 차이점을 설명하시오. "
   ]
  },
  {
   "cell_type": "markdown",
   "id": "376ae442",
   "metadata": {},
   "source": [
    "(1) K-means++ 알고리즘:\n",
    "K평균 알고리즘의 단점을 개선한 모델, K개 군집 중심을 설정하여 이미 n개의 초기 군집 중심을 선택했다고 가정한다면,  n+1번째 군집 중심 선택할 때 현재 n개 군집 중심에서 거리가 먼 샘플이 선택될 확률을 높게 만든다. \n",
    "\n",
    "(2) DBSCAN:\n",
    "밀도 기반 군집화이고, 간단하고 직관적인 알고리즘으로 되어 있음에도 데이터의 분포가 기하학적으로 복잡한 데이터 세트에도 효과적인 군집화가 가능하다. 특정 공간 내에 데이터 밀도 차이를 기반 알고리즘으로 하고 있어서 복잡한 기하학적 분포도를 가진 데이터 세트에 대해서도 군집화를 잘 수행한다. \n",
    "\n",
    "그 외에도 Gaussian Mixture Models (GMM)을 사용한 Expectation-Maximization (EM) 클러스터링, k-medians, k-shift 등 많음"
   ]
  }
 ],
 "metadata": {
  "kernelspec": {
   "display_name": "Python 3 (ipykernel)",
   "language": "python",
   "name": "python3"
  },
  "language_info": {
   "codemirror_mode": {
    "name": "ipython",
    "version": 3
   },
   "file_extension": ".py",
   "mimetype": "text/x-python",
   "name": "python",
   "nbconvert_exporter": "python",
   "pygments_lexer": "ipython3",
   "version": "3.7.3"
  }
 },
 "nbformat": 4,
 "nbformat_minor": 5
}
