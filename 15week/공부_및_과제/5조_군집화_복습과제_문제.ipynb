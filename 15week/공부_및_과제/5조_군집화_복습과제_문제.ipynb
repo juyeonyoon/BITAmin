{
 "cells": [
  {
   "cell_type": "markdown",
   "metadata": {},
   "source": [
    "# I. 군집화 개요"
   ]
  },
  {
   "cell_type": "markdown",
   "metadata": {},
   "source": [
    "## 1-1 번  \n",
    "군집화을 하는 목적을 적고, 기존의 분류 알고리즘과 다른 차이점을 적어주세요"
   ]
  },
  {
   "cell_type": "markdown",
   "metadata": {},
   "source": [
    "답안 : "
   ]
  },
  {
   "cell_type": "markdown",
   "metadata": {},
   "source": [
    "## 1-2 번  \n",
    "군집화 모델을 평가하는 지표가 무엇인지 적고, 해당 지표가 무엇을 나타내는지 적어주세요"
   ]
  },
  {
   "cell_type": "markdown",
   "metadata": {},
   "source": [
    "답안 : "
   ]
  },
  {
   "cell_type": "markdown",
   "metadata": {},
   "source": [
    "## 1-3 번  \n",
    "군집화 수행 결과와 실루엣 계수가 다음와 같이 나타났을 때, 이때 군집화는 적절하게 이루어진 것인지, 아니라면 왜 아닌지까지 설명해주세요!"
   ]
  },
  {
   "cell_type": "markdown",
   "metadata": {},
   "source": [
    " ![title](cluster.png)"
   ]
  },
  {
   "cell_type": "markdown",
   "metadata": {},
   "source": [
    "### 실루엣 계수 : 0.7"
   ]
  },
  {
   "cell_type": "markdown",
   "metadata": {},
   "source": [
    "답안 : "
   ]
  },
  {
   "cell_type": "markdown",
   "metadata": {},
   "source": [
    "## 1-4 번  \n",
    "군집화는 어떤 분야에서 유용하게 사용되는지 최소 3가지 적어주세요!   \n",
    "(구체적으로! ex : 경제분야 - 미래의 이자율을 예측하는데에 사용된다.)"
   ]
  },
  {
   "cell_type": "markdown",
   "metadata": {},
   "source": [
    "답안 : "
   ]
  },
  {
   "cell_type": "markdown",
   "metadata": {},
   "source": [
    "# II. 클러스터링"
   ]
  },
  {
   "cell_type": "markdown",
   "metadata": {},
   "source": [
    "## 문제 1. 실습문제  \n",
    "sklean에서 제공하는 load_wine dataset 활용"
   ]
  },
  {
   "cell_type": "code",
   "execution_count": null,
   "metadata": {},
   "outputs": [],
   "source": [
    "import numpy as np \n",
    "import pandas as pd\n",
    "import matplotlib.pyplot as plt\n",
    "import seaborn as sns\n",
    "from mpl_toolkits.mplot3d import Axes3D\n",
    "\n",
    "from sklearn.preprocessing import StandardScaler\n",
    "\n",
    "from sklearn.cluster import AgglomerativeClustering\n",
    "from scipy.cluster.hierarchy import dendrogram, linkage\n",
    "from sklearn.cluster import KMeans\n",
    "\n",
    "import warnings\n",
    "import os\n",
    "warnings.filterwarnings(\"ignore\")"
   ]
  },
  {
   "cell_type": "code",
   "execution_count": null,
   "metadata": {},
   "outputs": [],
   "source": [
    "#wine data 불러오기\n",
    "from sklearn.datasets import load_wine\n",
    "\n",
    "wine = load_wine()\n",
    "wine_df = pd.DataFrame(wine['data'], columns=wine['feature_names'])\n",
    "wine_df['target'] = wine['target']"
   ]
  },
  {
   "cell_type": "code",
   "execution_count": null,
   "metadata": {},
   "outputs": [],
   "source": [
    "wine_df.head()"
   ]
  },
  {
   "cell_type": "code",
   "execution_count": null,
   "metadata": {},
   "outputs": [],
   "source": [
    "wine_df.shape"
   ]
  },
  {
   "cell_type": "markdown",
   "metadata": {},
   "source": [
    "### 문제 1-1. Code 작성하고, wine 데이터 특징 파악"
   ]
  },
  {
   "cell_type": "code",
   "execution_count": null,
   "metadata": {},
   "outputs": [],
   "source": [
    "# 결측치 확인\n",
    "\n",
    "#Code"
   ]
  },
  {
   "cell_type": "code",
   "execution_count": null,
   "metadata": {},
   "outputs": [],
   "source": [
    "# target 분포 확인 \n",
    "\n",
    "#Code"
   ]
  },
  {
   "cell_type": "markdown",
   "metadata": {},
   "source": [
    "## 문제 2. K-means 클러스터링 실습"
   ]
  },
  {
   "cell_type": "markdown",
   "metadata": {},
   "source": [
    "### 문제2-1. PCA를 통해서 wine의 feature(13개)를 2차원으로 줄이시오. (차원 축소)\n",
    "입력되지 않은 code를 채워주세요."
   ]
  },
  {
   "cell_type": "code",
   "execution_count": null,
   "metadata": {},
   "outputs": [],
   "source": [
    "from sklearn.decomposition import PCA\n",
    "\n",
    "X = wine_df.iloc[:,:-1]\n",
    "y = wine_df.iloc[:,-1]\n",
    "\n",
    "# feature를 2차원으로 차원 축소\n",
    "pca = PCA(#2차원으로 축소하는 코드 작성#)\n",
    "pca_tr = #pca에 X를 학습&변환하는 코드#\n",
    "\n",
    "df = pd.DataFrame()\n",
    "df['pca_x'] = pca_tr[:, 0] \n",
    "df['pca_y'] = pca_tr[:, 1]\n",
    "df"
   ]
  },
  {
   "cell_type": "markdown",
   "metadata": {},
   "source": [
    "### 문제 2-2. 다음은 k-means 클러스터링에서 적합한 k를 찾기 위해 inertia값을 시각화하는 함수이다.\n",
    "다음 함수 코드에 비워진 부분을 채우고, 물음에 답하시오."
   ]
  },
  {
   "cell_type": "code",
   "execution_count": null,
   "metadata": {},
   "outputs": [],
   "source": [
    "# k 결정을 위한 k값에 따른 inertia값을 시각화하는 함수\n",
    "\n",
    "def draw_inertia(model, X):\n",
    "    inertia = []\n",
    "    \n",
    "    for n in range(1 , 11):\n",
    "        kmeans = KMeans(n_clusters = n, random_state= 0,\n",
    "                       # k-means++ 알고리즘을 사용하며,\n",
    "                       # 최초 중심 위치를 잡기 위해 15번 시도하며,\n",
    "                       # 클러스터링 최대 300번 반복하도록 옵션을 설정하시오.)\n",
    "        kmeans.fit(X)\n",
    "        inertia.append(#kmeans 결과로 나온 inertia값)\n",
    "    plt.figure(1 , figsize = (15 ,6))\n",
    "    plt.plot(np.arange(1 , 11) , inertia , 'o')\n",
    "    plt.plot(np.arange(1 , 11) , inertia , '-' , alpha = 0.5)\n",
    "    plt.xlabel('Number of Clusters') , plt.ylabel('Inertia')\n",
    "    plt.show()"
   ]
  },
  {
   "cell_type": "code",
   "execution_count": null,
   "metadata": {},
   "outputs": [],
   "source": [
    "draw_inertia(X)"
   ]
  },
  {
   "cell_type": "markdown",
   "metadata": {},
   "source": [
    "#### 위 시각화 결과를 고려했을 때, k를 얼마로 설정하는 것이 좋을까요?"
   ]
  },
  {
   "cell_type": "code",
   "execution_count": null,
   "metadata": {},
   "outputs": [],
   "source": []
  },
  {
   "cell_type": "markdown",
   "metadata": {},
   "source": [
    "### 문제 2-3. 위에서 결정한 k를 바탕으로 K-means 클러스터링을 시도하고, 이를 시각화하시오."
   ]
  },
  {
   "cell_type": "code",
   "execution_count": null,
   "metadata": {},
   "outputs": [],
   "source": [
    "kmeans = KMeans(#cluster의 개수는 위의 답과 동일하게,\n",
    "                    # k-means++ 알고리즘을 사용하며,\n",
    "                    # 최초 중심 위치를 잡기 위해 15번 시도하며,\n",
    "                    # 클러스터링 최대 300번 반복하도록 옵션을 설정하시오.\n",
    "                random_state=0)\n",
    "kmeans.fit(X)\n",
    "labels = kmeans.fit_predict(#학습시킬 data 입력)\n",
    "df['km_labels'] = labels\n",
    "    \n",
    "centroids1 = #kmeans 결과로 나오 각 클러스터의 중심값\n",
    "unique_labels = np.unique(labels)\n",
    "markers = ['o', 's', '^', 'P', 'D', 'H', 'x']\n",
    "    \n",
    "for label in unique_labels:\n",
    "    # 클러스터링 결과를 시각화해주세요. 단, 각 클러스터 별로 데이터 포인트의 색과 모양이 달라야 합니다.\n",
    "      \n",
    "plt.scatter(# 중심값을 시각화하는 코드 작성: size는 250, 색깔은 빨간색, 투명도는 0.5)\n",
    "plt.ylabel('pca_y')\n",
    "plt.xlabel('pca_x')\n",
    "plt.show()"
   ]
  },
  {
   "cell_type": "markdown",
   "metadata": {},
   "source": [
    "### 문제 2-4. 다음은 k-means 클러스터링에서 적합한 k를 찾기 위해 inertia값을 시각화하는 함수이다. \n",
    "빈 부분을 채우시오."
   ]
  },
  {
   "cell_type": "code",
   "execution_count": null,
   "metadata": {},
   "outputs": [],
   "source": [
    "from sklearn.metrics import ##무엇을 import 해야할까요?\n",
    "from matplotlib import cm\n",
    "\n",
    "# 실루엣 계수로 잘 군집화되었는지 확인\n",
    "pred_plus = #X를 kmeans로 돌렸을 때의 예측값(레이블)\n",
    "cluster_labels = np.unique(pred_plus)\n",
    "n_clusters = cluster_labels.shape[0]\n",
    "silhouette_vals = #코드를입력하시오# (X, pred_plus, metric='euclidean')\n",
    "\n",
    "y_ax_lower, y_ax_upper =0,0\n",
    "yticks=[]\n",
    "\n",
    "for i, c in enumerate(cluster_labels):\n",
    "    c_silhouette_vals = silhouette_vals[pred_plus==c]\n",
    "    c_silhouette_vals.sort()\n",
    "    y_ax_upper += len(c_silhouette_vals)\n",
    "    color = cm.jet(float(i) / n_clusters)\n",
    "    \n",
    "    plt.barh(range(y_ax_lower, y_ax_upper),\n",
    "            c_silhouette_vals,\n",
    "             height=1, edgecolor='none',\n",
    "             color=color)\n",
    "    yticks.append((y_ax_upper + y_ax_lower)/2)\n",
    "    y_ax_lower += len(c_silhouette_vals)\n",
    "    \n",
    "silhouette_avg = np.mean(c_silhouette_vals)\n",
    "plt.axvline(silhouette_avg, color = 'red', linestyle='--')\n",
    "plt.yticks(yticks, cluster_labels + 1)\n",
    "plt.ylabel('Cluster')\n",
    "plt.xlabel('Silhouette Coefficient')\n",
    "plt.tight_layout()\n",
    "plt.show()"
   ]
  },
  {
   "cell_type": "markdown",
   "metadata": {},
   "source": [
    "#### 실루엣 계수 시각화 결과를 보았을 때, 클러스터링이 잘 진행된 것으로 보이나요? 그렇게 생각한 이유와 함께 적어주세요."
   ]
  },
  {
   "cell_type": "code",
   "execution_count": null,
   "metadata": {},
   "outputs": [],
   "source": []
  },
  {
   "cell_type": "markdown",
   "metadata": {},
   "source": [
    "## 문제 3. 계층적 군집화 문제"
   ]
  },
  {
   "cell_type": "markdown",
   "metadata": {},
   "source": [
    "### 문제 3-1. 이번에는 wine_df에서 3개의 feature만 선택 해, 계층적 군집화 통해 분류해보려고 한다. "
   ]
  },
  {
   "cell_type": "code",
   "execution_count": null,
   "metadata": {},
   "outputs": [],
   "source": [
    "#3개의 feature 선택\n",
    "\n",
    "from sklearn.ensemble import RandomForestClassifier\n",
    "\n",
    "X_train = wine_df.iloc[:,:-1]\n",
    "y_train = wine_df.iloc[:,-1]\n",
    "\n",
    "rf = RandomForestClassifier()\n",
    "\n",
    "rf.fit(X_train, y_train)\n",
    "sorted_i = rf.feature_importances_.argsort()\n",
    "sns.barplot(x=rf.feature_importances_[sorted_i], y=wine_df.columns[sorted_i])\n",
    "plt.show()"
   ]
  },
  {
   "cell_type": "markdown",
   "metadata": {},
   "source": [
    "### 문제 3-2. 3개의 feture 선택해 Code 작성하시오"
   ]
  },
  {
   "cell_type": "code",
   "execution_count": null,
   "metadata": {},
   "outputs": [],
   "source": [
    "#Code 작성\n",
    "#3개 feature 선택 \n",
    "\n",
    "sel_data = \n",
    "sel_data.head()"
   ]
  },
  {
   "cell_type": "markdown",
   "metadata": {},
   "source": [
    "### 문제 3-3. 다음 코드를 작성하시오"
   ]
  },
  {
   "cell_type": "code",
   "execution_count": null,
   "metadata": {},
   "outputs": [],
   "source": [
    "#Code작성\n",
    "#StandScaler()를 이용해 sel_data를 feture scaling \n",
    "\n",
    "scaler = \n",
    "scaled_X = \n",
    "print(scaled_X)"
   ]
  },
  {
   "cell_type": "markdown",
   "metadata": {},
   "source": [
    "#### 계층적 군집화에는 다양한 likage method 존재한다. 어떤 method가 좋을지 확인해보자\n",
    "#### (ward, average, single, complete)"
   ]
  },
  {
   "cell_type": "code",
   "execution_count": null,
   "metadata": {},
   "outputs": [],
   "source": [
    "from sklearn.metrics import adjusted_rand_score\n",
    "# adjusted_rand_score은 예측 및 실제 클러스터링에서 동일하거나 다른 클러스터에 \n",
    "# 할당된 쌍을 계산하여 두 클러스터링 간의 유사성을 계산합니다. \n",
    "\n",
    "clustering_ari = []\n",
    "\n",
    "linkage_settings = ['ward', 'average', 'single', 'complete']\n",
    "for method in linkage_settings:\n",
    "    agg = AgglomerativeClustering(n_clusters=3, linkage=method)\n",
    "    agg.fit(scaled_X)\n",
    "    \n",
    "    assignments_scaled_X = agg.labels_\n",
    "    clustering_ari.append(adjusted_rand_score(y_train, assignments_scaled_X))"
   ]
  },
  {
   "cell_type": "code",
   "execution_count": null,
   "metadata": {},
   "outputs": [],
   "source": [
    "d = {'likage':linkage_settings, 'score': clustering_ari}\n",
    "pd.DataFrame(d)"
   ]
  },
  {
   "cell_type": "markdown",
   "metadata": {},
   "source": [
    "### 문제 3-4. method를 선택해 clustering 하고 Dendrogram으로 나타내보자"
   ]
  },
  {
   "cell_type": "code",
   "execution_count": null,
   "metadata": {},
   "outputs": [],
   "source": [
    "df_X = pd.DataFrame(scaled_X, columns=sel_data.columns)\n",
    "scaled_data = pd.concat([df_X, wine_df['target']], axis = 1)\n",
    "scaled_data.head()"
   ]
  },
  {
   "cell_type": "code",
   "execution_count": null,
   "metadata": {},
   "outputs": [],
   "source": [
    "#Code 작성\n",
    "#제일 높은 score을 가진 method 선택 , metric='euclidean'\n",
    "\n",
    "clusters = linkage(scaled_data, )\n",
    "clusters.shape"
   ]
  },
  {
   "cell_type": "code",
   "execution_count": null,
   "metadata": {},
   "outputs": [],
   "source": [
    "#Code 작성 \n",
    "#Dendrogram으로 나타내기 "
   ]
  },
  {
   "cell_type": "markdown",
   "metadata": {},
   "source": [
    "#### 클러스터링 결과를 확인해보자"
   ]
  },
  {
   "cell_type": "code",
   "execution_count": null,
   "metadata": {},
   "outputs": [],
   "source": [
    "from scipy.cluster.hierarchy import fcluster\n",
    "\n",
    "cut_tree = fcluster(clusters, t=15, criterion='distance')\n",
    "cut_tree\n",
    "labels = scaled_data['target']\n",
    "\n",
    "df = pd.DataFrame({'pred':cut_tree, 'labels':labels})\n",
    "con_mat = pd.crosstab(df['pred'], df['labels'])\n",
    "con_mat"
   ]
  },
  {
   "cell_type": "markdown",
   "metadata": {},
   "source": [
    "### 문제 3-5. 위의 코드를 통해 나온 결과를 서술하시오. (어떻게 나왔는지 간단하게 써주시면 됩니다.)"
   ]
  },
  {
   "cell_type": "markdown",
   "metadata": {},
   "source": []
  },
  {
   "cell_type": "markdown",
   "metadata": {},
   "source": [
    "#### 시각화를 통해 클러스터링 결과를 확인해보자 "
   ]
  },
  {
   "cell_type": "code",
   "execution_count": null,
   "metadata": {},
   "outputs": [],
   "source": [
    "scaled_data['cluster'] = cut_tree\n",
    "\n",
    "from mpl_toolkits.mplot3d import Axes3D\n",
    "\n",
    "fig = plt.figure(1, figsize=(8,6))\n",
    "ax = Axes3D(fig, elev=-150, azim=110)\n",
    "ax.scatter(scaled_data.iloc[:,0],\n",
    "          scaled_data.iloc[:,1],\n",
    "          scaled_data.iloc[:,2],\n",
    "          c = scaled_data['cluster'],\n",
    "          edgecolor='k')\n",
    "\n",
    "ax.set_title('cluster visualization')\n",
    "ax.set_xlabel('1st feature')\n",
    "ax.set_ylabel('2nd feature')\n",
    "ax.set_zlabel('3rd feature')"
   ]
  },
  {
   "cell_type": "markdown",
   "metadata": {},
   "source": [
    "### 문제 3-6. 계층적 군집화의 단점을 시간복잡도 측면에서 설명하시오."
   ]
  },
  {
   "cell_type": "code",
   "execution_count": null,
   "metadata": {},
   "outputs": [],
   "source": []
  },
  {
   "cell_type": "markdown",
   "metadata": {},
   "source": [
    "### 문제 4. K-means, 계층적 군집화 외의 다른 클러스터링 방법을 1가지 이상 서술하고 차이점을 설명하시오. "
   ]
  },
  {
   "cell_type": "code",
   "execution_count": null,
   "metadata": {},
   "outputs": [],
   "source": []
  }
 ],
 "metadata": {
  "kernelspec": {
   "display_name": "Python 3",
   "language": "python",
   "name": "python3"
  },
  "language_info": {
   "codemirror_mode": {
    "name": "ipython",
    "version": 3
   },
   "file_extension": ".py",
   "mimetype": "text/x-python",
   "name": "python",
   "nbconvert_exporter": "python",
   "pygments_lexer": "ipython3",
   "version": "3.8.5"
  }
 },
 "nbformat": 4,
 "nbformat_minor": 5
}
